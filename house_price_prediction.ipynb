{
 "cells": [
  {
   "cell_type": "markdown",
   "metadata": {},
   "source": [
    "# House Price Prediction"
   ]
  },
  {
   "cell_type": "code",
   "execution_count": 1,
   "metadata": {},
   "outputs": [],
   "source": [
    "import pandas as pd\n",
    "import numpy as np\n",
    "\n",
    "from sklearn.linear_model import LinearRegression, Ridge, Lasso\n",
    "from sklearn.ensemble import RandomForestRegressor\n",
    "from sklearn.model_selection import cross_val_score, train_test_split, GridSearchCV\n",
    "\n",
    "import plotly.express as px\n",
    "import plotly.figure_factory as ff"
   ]
  },
  {
   "cell_type": "code",
   "execution_count": 2,
   "metadata": {},
   "outputs": [],
   "source": [
    "df = pd.read_csv(\"data/houseprice.csv\")"
   ]
  },
  {
   "cell_type": "code",
   "execution_count": 3,
   "metadata": {},
   "outputs": [
    {
     "data": {
      "text/html": [
       "<div>\n",
       "<style scoped>\n",
       "    .dataframe tbody tr th:only-of-type {\n",
       "        vertical-align: middle;\n",
       "    }\n",
       "\n",
       "    .dataframe tbody tr th {\n",
       "        vertical-align: top;\n",
       "    }\n",
       "\n",
       "    .dataframe thead th {\n",
       "        text-align: right;\n",
       "    }\n",
       "</style>\n",
       "<table border=\"1\" class=\"dataframe\">\n",
       "  <thead>\n",
       "    <tr style=\"text-align: right;\">\n",
       "      <th></th>\n",
       "      <th>Id</th>\n",
       "      <th>MSSubClass</th>\n",
       "      <th>MSZoning</th>\n",
       "      <th>LotFrontage</th>\n",
       "      <th>LotArea</th>\n",
       "      <th>Street</th>\n",
       "      <th>Alley</th>\n",
       "      <th>LotShape</th>\n",
       "      <th>LandContour</th>\n",
       "      <th>Utilities</th>\n",
       "      <th>...</th>\n",
       "      <th>PoolArea</th>\n",
       "      <th>PoolQC</th>\n",
       "      <th>Fence</th>\n",
       "      <th>MiscFeature</th>\n",
       "      <th>MiscVal</th>\n",
       "      <th>MoSold</th>\n",
       "      <th>YrSold</th>\n",
       "      <th>SaleType</th>\n",
       "      <th>SaleCondition</th>\n",
       "      <th>SalePrice</th>\n",
       "    </tr>\n",
       "  </thead>\n",
       "  <tbody>\n",
       "    <tr>\n",
       "      <th>0</th>\n",
       "      <td>1</td>\n",
       "      <td>60</td>\n",
       "      <td>RL</td>\n",
       "      <td>65.0</td>\n",
       "      <td>8450</td>\n",
       "      <td>Pave</td>\n",
       "      <td>NaN</td>\n",
       "      <td>Reg</td>\n",
       "      <td>Lvl</td>\n",
       "      <td>AllPub</td>\n",
       "      <td>...</td>\n",
       "      <td>0</td>\n",
       "      <td>NaN</td>\n",
       "      <td>NaN</td>\n",
       "      <td>NaN</td>\n",
       "      <td>0</td>\n",
       "      <td>2</td>\n",
       "      <td>2008</td>\n",
       "      <td>WD</td>\n",
       "      <td>Normal</td>\n",
       "      <td>208500</td>\n",
       "    </tr>\n",
       "    <tr>\n",
       "      <th>1</th>\n",
       "      <td>2</td>\n",
       "      <td>20</td>\n",
       "      <td>RL</td>\n",
       "      <td>80.0</td>\n",
       "      <td>9600</td>\n",
       "      <td>Pave</td>\n",
       "      <td>NaN</td>\n",
       "      <td>Reg</td>\n",
       "      <td>Lvl</td>\n",
       "      <td>AllPub</td>\n",
       "      <td>...</td>\n",
       "      <td>0</td>\n",
       "      <td>NaN</td>\n",
       "      <td>NaN</td>\n",
       "      <td>NaN</td>\n",
       "      <td>0</td>\n",
       "      <td>5</td>\n",
       "      <td>2007</td>\n",
       "      <td>WD</td>\n",
       "      <td>Normal</td>\n",
       "      <td>181500</td>\n",
       "    </tr>\n",
       "    <tr>\n",
       "      <th>2</th>\n",
       "      <td>3</td>\n",
       "      <td>60</td>\n",
       "      <td>RL</td>\n",
       "      <td>68.0</td>\n",
       "      <td>11250</td>\n",
       "      <td>Pave</td>\n",
       "      <td>NaN</td>\n",
       "      <td>IR1</td>\n",
       "      <td>Lvl</td>\n",
       "      <td>AllPub</td>\n",
       "      <td>...</td>\n",
       "      <td>0</td>\n",
       "      <td>NaN</td>\n",
       "      <td>NaN</td>\n",
       "      <td>NaN</td>\n",
       "      <td>0</td>\n",
       "      <td>9</td>\n",
       "      <td>2008</td>\n",
       "      <td>WD</td>\n",
       "      <td>Normal</td>\n",
       "      <td>223500</td>\n",
       "    </tr>\n",
       "    <tr>\n",
       "      <th>3</th>\n",
       "      <td>4</td>\n",
       "      <td>70</td>\n",
       "      <td>RL</td>\n",
       "      <td>60.0</td>\n",
       "      <td>9550</td>\n",
       "      <td>Pave</td>\n",
       "      <td>NaN</td>\n",
       "      <td>IR1</td>\n",
       "      <td>Lvl</td>\n",
       "      <td>AllPub</td>\n",
       "      <td>...</td>\n",
       "      <td>0</td>\n",
       "      <td>NaN</td>\n",
       "      <td>NaN</td>\n",
       "      <td>NaN</td>\n",
       "      <td>0</td>\n",
       "      <td>2</td>\n",
       "      <td>2006</td>\n",
       "      <td>WD</td>\n",
       "      <td>Abnorml</td>\n",
       "      <td>140000</td>\n",
       "    </tr>\n",
       "    <tr>\n",
       "      <th>4</th>\n",
       "      <td>5</td>\n",
       "      <td>60</td>\n",
       "      <td>RL</td>\n",
       "      <td>84.0</td>\n",
       "      <td>14260</td>\n",
       "      <td>Pave</td>\n",
       "      <td>NaN</td>\n",
       "      <td>IR1</td>\n",
       "      <td>Lvl</td>\n",
       "      <td>AllPub</td>\n",
       "      <td>...</td>\n",
       "      <td>0</td>\n",
       "      <td>NaN</td>\n",
       "      <td>NaN</td>\n",
       "      <td>NaN</td>\n",
       "      <td>0</td>\n",
       "      <td>12</td>\n",
       "      <td>2008</td>\n",
       "      <td>WD</td>\n",
       "      <td>Normal</td>\n",
       "      <td>250000</td>\n",
       "    </tr>\n",
       "  </tbody>\n",
       "</table>\n",
       "<p>5 rows × 81 columns</p>\n",
       "</div>"
      ],
      "text/plain": [
       "   Id  MSSubClass MSZoning  LotFrontage  LotArea Street Alley LotShape  \\\n",
       "0   1          60       RL         65.0     8450   Pave   NaN      Reg   \n",
       "1   2          20       RL         80.0     9600   Pave   NaN      Reg   \n",
       "2   3          60       RL         68.0    11250   Pave   NaN      IR1   \n",
       "3   4          70       RL         60.0     9550   Pave   NaN      IR1   \n",
       "4   5          60       RL         84.0    14260   Pave   NaN      IR1   \n",
       "\n",
       "  LandContour Utilities  ... PoolArea PoolQC Fence MiscFeature MiscVal MoSold  \\\n",
       "0         Lvl    AllPub  ...        0    NaN   NaN         NaN       0      2   \n",
       "1         Lvl    AllPub  ...        0    NaN   NaN         NaN       0      5   \n",
       "2         Lvl    AllPub  ...        0    NaN   NaN         NaN       0      9   \n",
       "3         Lvl    AllPub  ...        0    NaN   NaN         NaN       0      2   \n",
       "4         Lvl    AllPub  ...        0    NaN   NaN         NaN       0     12   \n",
       "\n",
       "  YrSold  SaleType  SaleCondition  SalePrice  \n",
       "0   2008        WD         Normal     208500  \n",
       "1   2007        WD         Normal     181500  \n",
       "2   2008        WD         Normal     223500  \n",
       "3   2006        WD        Abnorml     140000  \n",
       "4   2008        WD         Normal     250000  \n",
       "\n",
       "[5 rows x 81 columns]"
      ]
     },
     "execution_count": 3,
     "metadata": {},
     "output_type": "execute_result"
    }
   ],
   "source": [
    "df.head()"
   ]
  },
  {
   "cell_type": "code",
   "execution_count": 4,
   "metadata": {},
   "outputs": [
    {
     "data": {
      "text/plain": [
       "(1460, 81)"
      ]
     },
     "execution_count": 4,
     "metadata": {},
     "output_type": "execute_result"
    }
   ],
   "source": [
    "df.shape"
   ]
  },
  {
   "cell_type": "code",
   "execution_count": 5,
   "metadata": {},
   "outputs": [
    {
     "data": {
      "text/html": [
       "<div>\n",
       "<style scoped>\n",
       "    .dataframe tbody tr th:only-of-type {\n",
       "        vertical-align: middle;\n",
       "    }\n",
       "\n",
       "    .dataframe tbody tr th {\n",
       "        vertical-align: top;\n",
       "    }\n",
       "\n",
       "    .dataframe thead th {\n",
       "        text-align: right;\n",
       "    }\n",
       "</style>\n",
       "<table border=\"1\" class=\"dataframe\">\n",
       "  <thead>\n",
       "    <tr style=\"text-align: right;\">\n",
       "      <th></th>\n",
       "      <th>Id</th>\n",
       "      <th>MSSubClass</th>\n",
       "      <th>LotFrontage</th>\n",
       "      <th>LotArea</th>\n",
       "      <th>OverallQual</th>\n",
       "      <th>OverallCond</th>\n",
       "      <th>YearBuilt</th>\n",
       "      <th>YearRemodAdd</th>\n",
       "      <th>MasVnrArea</th>\n",
       "      <th>BsmtFinSF1</th>\n",
       "      <th>...</th>\n",
       "      <th>WoodDeckSF</th>\n",
       "      <th>OpenPorchSF</th>\n",
       "      <th>EnclosedPorch</th>\n",
       "      <th>3SsnPorch</th>\n",
       "      <th>ScreenPorch</th>\n",
       "      <th>PoolArea</th>\n",
       "      <th>MiscVal</th>\n",
       "      <th>MoSold</th>\n",
       "      <th>YrSold</th>\n",
       "      <th>SalePrice</th>\n",
       "    </tr>\n",
       "  </thead>\n",
       "  <tbody>\n",
       "    <tr>\n",
       "      <th>count</th>\n",
       "      <td>1460.000000</td>\n",
       "      <td>1460.000000</td>\n",
       "      <td>1201.000000</td>\n",
       "      <td>1460.000000</td>\n",
       "      <td>1460.000000</td>\n",
       "      <td>1460.000000</td>\n",
       "      <td>1460.000000</td>\n",
       "      <td>1460.000000</td>\n",
       "      <td>1452.000000</td>\n",
       "      <td>1460.000000</td>\n",
       "      <td>...</td>\n",
       "      <td>1460.000000</td>\n",
       "      <td>1460.000000</td>\n",
       "      <td>1460.000000</td>\n",
       "      <td>1460.000000</td>\n",
       "      <td>1460.000000</td>\n",
       "      <td>1460.000000</td>\n",
       "      <td>1460.000000</td>\n",
       "      <td>1460.000000</td>\n",
       "      <td>1460.000000</td>\n",
       "      <td>1460.000000</td>\n",
       "    </tr>\n",
       "    <tr>\n",
       "      <th>mean</th>\n",
       "      <td>730.500000</td>\n",
       "      <td>56.897260</td>\n",
       "      <td>70.049958</td>\n",
       "      <td>10516.828082</td>\n",
       "      <td>6.099315</td>\n",
       "      <td>5.575342</td>\n",
       "      <td>1971.267808</td>\n",
       "      <td>1984.865753</td>\n",
       "      <td>103.685262</td>\n",
       "      <td>443.639726</td>\n",
       "      <td>...</td>\n",
       "      <td>94.244521</td>\n",
       "      <td>46.660274</td>\n",
       "      <td>21.954110</td>\n",
       "      <td>3.409589</td>\n",
       "      <td>15.060959</td>\n",
       "      <td>2.758904</td>\n",
       "      <td>43.489041</td>\n",
       "      <td>6.321918</td>\n",
       "      <td>2007.815753</td>\n",
       "      <td>180921.195890</td>\n",
       "    </tr>\n",
       "    <tr>\n",
       "      <th>std</th>\n",
       "      <td>421.610009</td>\n",
       "      <td>42.300571</td>\n",
       "      <td>24.284752</td>\n",
       "      <td>9981.264932</td>\n",
       "      <td>1.382997</td>\n",
       "      <td>1.112799</td>\n",
       "      <td>30.202904</td>\n",
       "      <td>20.645407</td>\n",
       "      <td>181.066207</td>\n",
       "      <td>456.098091</td>\n",
       "      <td>...</td>\n",
       "      <td>125.338794</td>\n",
       "      <td>66.256028</td>\n",
       "      <td>61.119149</td>\n",
       "      <td>29.317331</td>\n",
       "      <td>55.757415</td>\n",
       "      <td>40.177307</td>\n",
       "      <td>496.123024</td>\n",
       "      <td>2.703626</td>\n",
       "      <td>1.328095</td>\n",
       "      <td>79442.502883</td>\n",
       "    </tr>\n",
       "    <tr>\n",
       "      <th>min</th>\n",
       "      <td>1.000000</td>\n",
       "      <td>20.000000</td>\n",
       "      <td>21.000000</td>\n",
       "      <td>1300.000000</td>\n",
       "      <td>1.000000</td>\n",
       "      <td>1.000000</td>\n",
       "      <td>1872.000000</td>\n",
       "      <td>1950.000000</td>\n",
       "      <td>0.000000</td>\n",
       "      <td>0.000000</td>\n",
       "      <td>...</td>\n",
       "      <td>0.000000</td>\n",
       "      <td>0.000000</td>\n",
       "      <td>0.000000</td>\n",
       "      <td>0.000000</td>\n",
       "      <td>0.000000</td>\n",
       "      <td>0.000000</td>\n",
       "      <td>0.000000</td>\n",
       "      <td>1.000000</td>\n",
       "      <td>2006.000000</td>\n",
       "      <td>34900.000000</td>\n",
       "    </tr>\n",
       "    <tr>\n",
       "      <th>25%</th>\n",
       "      <td>365.750000</td>\n",
       "      <td>20.000000</td>\n",
       "      <td>59.000000</td>\n",
       "      <td>7553.500000</td>\n",
       "      <td>5.000000</td>\n",
       "      <td>5.000000</td>\n",
       "      <td>1954.000000</td>\n",
       "      <td>1967.000000</td>\n",
       "      <td>0.000000</td>\n",
       "      <td>0.000000</td>\n",
       "      <td>...</td>\n",
       "      <td>0.000000</td>\n",
       "      <td>0.000000</td>\n",
       "      <td>0.000000</td>\n",
       "      <td>0.000000</td>\n",
       "      <td>0.000000</td>\n",
       "      <td>0.000000</td>\n",
       "      <td>0.000000</td>\n",
       "      <td>5.000000</td>\n",
       "      <td>2007.000000</td>\n",
       "      <td>129975.000000</td>\n",
       "    </tr>\n",
       "    <tr>\n",
       "      <th>50%</th>\n",
       "      <td>730.500000</td>\n",
       "      <td>50.000000</td>\n",
       "      <td>69.000000</td>\n",
       "      <td>9478.500000</td>\n",
       "      <td>6.000000</td>\n",
       "      <td>5.000000</td>\n",
       "      <td>1973.000000</td>\n",
       "      <td>1994.000000</td>\n",
       "      <td>0.000000</td>\n",
       "      <td>383.500000</td>\n",
       "      <td>...</td>\n",
       "      <td>0.000000</td>\n",
       "      <td>25.000000</td>\n",
       "      <td>0.000000</td>\n",
       "      <td>0.000000</td>\n",
       "      <td>0.000000</td>\n",
       "      <td>0.000000</td>\n",
       "      <td>0.000000</td>\n",
       "      <td>6.000000</td>\n",
       "      <td>2008.000000</td>\n",
       "      <td>163000.000000</td>\n",
       "    </tr>\n",
       "    <tr>\n",
       "      <th>75%</th>\n",
       "      <td>1095.250000</td>\n",
       "      <td>70.000000</td>\n",
       "      <td>80.000000</td>\n",
       "      <td>11601.500000</td>\n",
       "      <td>7.000000</td>\n",
       "      <td>6.000000</td>\n",
       "      <td>2000.000000</td>\n",
       "      <td>2004.000000</td>\n",
       "      <td>166.000000</td>\n",
       "      <td>712.250000</td>\n",
       "      <td>...</td>\n",
       "      <td>168.000000</td>\n",
       "      <td>68.000000</td>\n",
       "      <td>0.000000</td>\n",
       "      <td>0.000000</td>\n",
       "      <td>0.000000</td>\n",
       "      <td>0.000000</td>\n",
       "      <td>0.000000</td>\n",
       "      <td>8.000000</td>\n",
       "      <td>2009.000000</td>\n",
       "      <td>214000.000000</td>\n",
       "    </tr>\n",
       "    <tr>\n",
       "      <th>max</th>\n",
       "      <td>1460.000000</td>\n",
       "      <td>190.000000</td>\n",
       "      <td>313.000000</td>\n",
       "      <td>215245.000000</td>\n",
       "      <td>10.000000</td>\n",
       "      <td>9.000000</td>\n",
       "      <td>2010.000000</td>\n",
       "      <td>2010.000000</td>\n",
       "      <td>1600.000000</td>\n",
       "      <td>5644.000000</td>\n",
       "      <td>...</td>\n",
       "      <td>857.000000</td>\n",
       "      <td>547.000000</td>\n",
       "      <td>552.000000</td>\n",
       "      <td>508.000000</td>\n",
       "      <td>480.000000</td>\n",
       "      <td>738.000000</td>\n",
       "      <td>15500.000000</td>\n",
       "      <td>12.000000</td>\n",
       "      <td>2010.000000</td>\n",
       "      <td>755000.000000</td>\n",
       "    </tr>\n",
       "  </tbody>\n",
       "</table>\n",
       "<p>8 rows × 38 columns</p>\n",
       "</div>"
      ],
      "text/plain": [
       "                Id   MSSubClass  LotFrontage        LotArea  OverallQual  \\\n",
       "count  1460.000000  1460.000000  1201.000000    1460.000000  1460.000000   \n",
       "mean    730.500000    56.897260    70.049958   10516.828082     6.099315   \n",
       "std     421.610009    42.300571    24.284752    9981.264932     1.382997   \n",
       "min       1.000000    20.000000    21.000000    1300.000000     1.000000   \n",
       "25%     365.750000    20.000000    59.000000    7553.500000     5.000000   \n",
       "50%     730.500000    50.000000    69.000000    9478.500000     6.000000   \n",
       "75%    1095.250000    70.000000    80.000000   11601.500000     7.000000   \n",
       "max    1460.000000   190.000000   313.000000  215245.000000    10.000000   \n",
       "\n",
       "       OverallCond    YearBuilt  YearRemodAdd   MasVnrArea   BsmtFinSF1  ...  \\\n",
       "count  1460.000000  1460.000000   1460.000000  1452.000000  1460.000000  ...   \n",
       "mean      5.575342  1971.267808   1984.865753   103.685262   443.639726  ...   \n",
       "std       1.112799    30.202904     20.645407   181.066207   456.098091  ...   \n",
       "min       1.000000  1872.000000   1950.000000     0.000000     0.000000  ...   \n",
       "25%       5.000000  1954.000000   1967.000000     0.000000     0.000000  ...   \n",
       "50%       5.000000  1973.000000   1994.000000     0.000000   383.500000  ...   \n",
       "75%       6.000000  2000.000000   2004.000000   166.000000   712.250000  ...   \n",
       "max       9.000000  2010.000000   2010.000000  1600.000000  5644.000000  ...   \n",
       "\n",
       "        WoodDeckSF  OpenPorchSF  EnclosedPorch    3SsnPorch  ScreenPorch  \\\n",
       "count  1460.000000  1460.000000    1460.000000  1460.000000  1460.000000   \n",
       "mean     94.244521    46.660274      21.954110     3.409589    15.060959   \n",
       "std     125.338794    66.256028      61.119149    29.317331    55.757415   \n",
       "min       0.000000     0.000000       0.000000     0.000000     0.000000   \n",
       "25%       0.000000     0.000000       0.000000     0.000000     0.000000   \n",
       "50%       0.000000    25.000000       0.000000     0.000000     0.000000   \n",
       "75%     168.000000    68.000000       0.000000     0.000000     0.000000   \n",
       "max     857.000000   547.000000     552.000000   508.000000   480.000000   \n",
       "\n",
       "          PoolArea       MiscVal       MoSold       YrSold      SalePrice  \n",
       "count  1460.000000   1460.000000  1460.000000  1460.000000    1460.000000  \n",
       "mean      2.758904     43.489041     6.321918  2007.815753  180921.195890  \n",
       "std      40.177307    496.123024     2.703626     1.328095   79442.502883  \n",
       "min       0.000000      0.000000     1.000000  2006.000000   34900.000000  \n",
       "25%       0.000000      0.000000     5.000000  2007.000000  129975.000000  \n",
       "50%       0.000000      0.000000     6.000000  2008.000000  163000.000000  \n",
       "75%       0.000000      0.000000     8.000000  2009.000000  214000.000000  \n",
       "max     738.000000  15500.000000    12.000000  2010.000000  755000.000000  \n",
       "\n",
       "[8 rows x 38 columns]"
      ]
     },
     "execution_count": 5,
     "metadata": {},
     "output_type": "execute_result"
    }
   ],
   "source": [
    "df.describe()"
   ]
  },
  {
   "cell_type": "code",
   "execution_count": 6,
   "metadata": {},
   "outputs": [
    {
     "name": "stdout",
     "output_type": "stream",
     "text": [
      "<class 'pandas.core.frame.DataFrame'>\n",
      "RangeIndex: 1460 entries, 0 to 1459\n",
      "Data columns (total 81 columns):\n",
      " #   Column         Non-Null Count  Dtype  \n",
      "---  ------         --------------  -----  \n",
      " 0   Id             1460 non-null   int64  \n",
      " 1   MSSubClass     1460 non-null   int64  \n",
      " 2   MSZoning       1460 non-null   object \n",
      " 3   LotFrontage    1201 non-null   float64\n",
      " 4   LotArea        1460 non-null   int64  \n",
      " 5   Street         1460 non-null   object \n",
      " 6   Alley          91 non-null     object \n",
      " 7   LotShape       1460 non-null   object \n",
      " 8   LandContour    1460 non-null   object \n",
      " 9   Utilities      1460 non-null   object \n",
      " 10  LotConfig      1460 non-null   object \n",
      " 11  LandSlope      1460 non-null   object \n",
      " 12  Neighborhood   1460 non-null   object \n",
      " 13  Condition1     1460 non-null   object \n",
      " 14  Condition2     1460 non-null   object \n",
      " 15  BldgType       1460 non-null   object \n",
      " 16  HouseStyle     1460 non-null   object \n",
      " 17  OverallQual    1460 non-null   int64  \n",
      " 18  OverallCond    1460 non-null   int64  \n",
      " 19  YearBuilt      1460 non-null   int64  \n",
      " 20  YearRemodAdd   1460 non-null   int64  \n",
      " 21  RoofStyle      1460 non-null   object \n",
      " 22  RoofMatl       1460 non-null   object \n",
      " 23  Exterior1st    1460 non-null   object \n",
      " 24  Exterior2nd    1460 non-null   object \n",
      " 25  MasVnrType     588 non-null    object \n",
      " 26  MasVnrArea     1452 non-null   float64\n",
      " 27  ExterQual      1460 non-null   object \n",
      " 28  ExterCond      1460 non-null   object \n",
      " 29  Foundation     1460 non-null   object \n",
      " 30  BsmtQual       1423 non-null   object \n",
      " 31  BsmtCond       1423 non-null   object \n",
      " 32  BsmtExposure   1422 non-null   object \n",
      " 33  BsmtFinType1   1423 non-null   object \n",
      " 34  BsmtFinSF1     1460 non-null   int64  \n",
      " 35  BsmtFinType2   1422 non-null   object \n",
      " 36  BsmtFinSF2     1460 non-null   int64  \n",
      " 37  BsmtUnfSF      1460 non-null   int64  \n",
      " 38  TotalBsmtSF    1460 non-null   int64  \n",
      " 39  Heating        1460 non-null   object \n",
      " 40  HeatingQC      1460 non-null   object \n",
      " 41  CentralAir     1460 non-null   object \n",
      " 42  Electrical     1459 non-null   object \n",
      " 43  1stFlrSF       1460 non-null   int64  \n",
      " 44  2ndFlrSF       1460 non-null   int64  \n",
      " 45  LowQualFinSF   1460 non-null   int64  \n",
      " 46  GrLivArea      1460 non-null   int64  \n",
      " 47  BsmtFullBath   1460 non-null   int64  \n",
      " 48  BsmtHalfBath   1460 non-null   int64  \n",
      " 49  FullBath       1460 non-null   int64  \n",
      " 50  HalfBath       1460 non-null   int64  \n",
      " 51  BedroomAbvGr   1460 non-null   int64  \n",
      " 52  KitchenAbvGr   1460 non-null   int64  \n",
      " 53  KitchenQual    1460 non-null   object \n",
      " 54  TotRmsAbvGrd   1460 non-null   int64  \n",
      " 55  Functional     1460 non-null   object \n",
      " 56  Fireplaces     1460 non-null   int64  \n",
      " 57  FireplaceQu    770 non-null    object \n",
      " 58  GarageType     1379 non-null   object \n",
      " 59  GarageYrBlt    1379 non-null   float64\n",
      " 60  GarageFinish   1379 non-null   object \n",
      " 61  GarageCars     1460 non-null   int64  \n",
      " 62  GarageArea     1460 non-null   int64  \n",
      " 63  GarageQual     1379 non-null   object \n",
      " 64  GarageCond     1379 non-null   object \n",
      " 65  PavedDrive     1460 non-null   object \n",
      " 66  WoodDeckSF     1460 non-null   int64  \n",
      " 67  OpenPorchSF    1460 non-null   int64  \n",
      " 68  EnclosedPorch  1460 non-null   int64  \n",
      " 69  3SsnPorch      1460 non-null   int64  \n",
      " 70  ScreenPorch    1460 non-null   int64  \n",
      " 71  PoolArea       1460 non-null   int64  \n",
      " 72  PoolQC         7 non-null      object \n",
      " 73  Fence          281 non-null    object \n",
      " 74  MiscFeature    54 non-null     object \n",
      " 75  MiscVal        1460 non-null   int64  \n",
      " 76  MoSold         1460 non-null   int64  \n",
      " 77  YrSold         1460 non-null   int64  \n",
      " 78  SaleType       1460 non-null   object \n",
      " 79  SaleCondition  1460 non-null   object \n",
      " 80  SalePrice      1460 non-null   int64  \n",
      "dtypes: float64(3), int64(35), object(43)\n",
      "memory usage: 924.0+ KB\n"
     ]
    }
   ],
   "source": [
    "df.info()"
   ]
  },
  {
   "cell_type": "code",
   "execution_count": 7,
   "metadata": {},
   "outputs": [
    {
     "data": {
      "text/html": [
       "<div>\n",
       "<style scoped>\n",
       "    .dataframe tbody tr th:only-of-type {\n",
       "        vertical-align: middle;\n",
       "    }\n",
       "\n",
       "    .dataframe tbody tr th {\n",
       "        vertical-align: top;\n",
       "    }\n",
       "\n",
       "    .dataframe thead th {\n",
       "        text-align: right;\n",
       "    }\n",
       "</style>\n",
       "<table border=\"1\" class=\"dataframe\">\n",
       "  <thead>\n",
       "    <tr style=\"text-align: right;\">\n",
       "      <th></th>\n",
       "      <th>missing_count</th>\n",
       "      <th>missing_percent</th>\n",
       "    </tr>\n",
       "  </thead>\n",
       "  <tbody>\n",
       "    <tr>\n",
       "      <th>PoolQC</th>\n",
       "      <td>1453</td>\n",
       "      <td>99.52</td>\n",
       "    </tr>\n",
       "    <tr>\n",
       "      <th>MiscFeature</th>\n",
       "      <td>1406</td>\n",
       "      <td>96.30</td>\n",
       "    </tr>\n",
       "    <tr>\n",
       "      <th>Alley</th>\n",
       "      <td>1369</td>\n",
       "      <td>93.77</td>\n",
       "    </tr>\n",
       "    <tr>\n",
       "      <th>Fence</th>\n",
       "      <td>1179</td>\n",
       "      <td>80.75</td>\n",
       "    </tr>\n",
       "    <tr>\n",
       "      <th>MasVnrType</th>\n",
       "      <td>872</td>\n",
       "      <td>59.73</td>\n",
       "    </tr>\n",
       "    <tr>\n",
       "      <th>FireplaceQu</th>\n",
       "      <td>690</td>\n",
       "      <td>47.26</td>\n",
       "    </tr>\n",
       "    <tr>\n",
       "      <th>LotFrontage</th>\n",
       "      <td>259</td>\n",
       "      <td>17.74</td>\n",
       "    </tr>\n",
       "    <tr>\n",
       "      <th>GarageYrBlt</th>\n",
       "      <td>81</td>\n",
       "      <td>5.55</td>\n",
       "    </tr>\n",
       "    <tr>\n",
       "      <th>GarageCond</th>\n",
       "      <td>81</td>\n",
       "      <td>5.55</td>\n",
       "    </tr>\n",
       "    <tr>\n",
       "      <th>GarageType</th>\n",
       "      <td>81</td>\n",
       "      <td>5.55</td>\n",
       "    </tr>\n",
       "    <tr>\n",
       "      <th>GarageFinish</th>\n",
       "      <td>81</td>\n",
       "      <td>5.55</td>\n",
       "    </tr>\n",
       "    <tr>\n",
       "      <th>GarageQual</th>\n",
       "      <td>81</td>\n",
       "      <td>5.55</td>\n",
       "    </tr>\n",
       "    <tr>\n",
       "      <th>BsmtFinType2</th>\n",
       "      <td>38</td>\n",
       "      <td>2.60</td>\n",
       "    </tr>\n",
       "    <tr>\n",
       "      <th>BsmtExposure</th>\n",
       "      <td>38</td>\n",
       "      <td>2.60</td>\n",
       "    </tr>\n",
       "    <tr>\n",
       "      <th>BsmtQual</th>\n",
       "      <td>37</td>\n",
       "      <td>2.53</td>\n",
       "    </tr>\n",
       "    <tr>\n",
       "      <th>BsmtCond</th>\n",
       "      <td>37</td>\n",
       "      <td>2.53</td>\n",
       "    </tr>\n",
       "    <tr>\n",
       "      <th>BsmtFinType1</th>\n",
       "      <td>37</td>\n",
       "      <td>2.53</td>\n",
       "    </tr>\n",
       "    <tr>\n",
       "      <th>MasVnrArea</th>\n",
       "      <td>8</td>\n",
       "      <td>0.55</td>\n",
       "    </tr>\n",
       "    <tr>\n",
       "      <th>Electrical</th>\n",
       "      <td>1</td>\n",
       "      <td>0.07</td>\n",
       "    </tr>\n",
       "  </tbody>\n",
       "</table>\n",
       "</div>"
      ],
      "text/plain": [
       "              missing_count  missing_percent\n",
       "PoolQC                 1453            99.52\n",
       "MiscFeature            1406            96.30\n",
       "Alley                  1369            93.77\n",
       "Fence                  1179            80.75\n",
       "MasVnrType              872            59.73\n",
       "FireplaceQu             690            47.26\n",
       "LotFrontage             259            17.74\n",
       "GarageYrBlt              81             5.55\n",
       "GarageCond               81             5.55\n",
       "GarageType               81             5.55\n",
       "GarageFinish             81             5.55\n",
       "GarageQual               81             5.55\n",
       "BsmtFinType2             38             2.60\n",
       "BsmtExposure             38             2.60\n",
       "BsmtQual                 37             2.53\n",
       "BsmtCond                 37             2.53\n",
       "BsmtFinType1             37             2.53\n",
       "MasVnrArea                8             0.55\n",
       "Electrical                1             0.07"
      ]
     },
     "execution_count": 7,
     "metadata": {},
     "output_type": "execute_result"
    }
   ],
   "source": [
    "missing_value = pd.DataFrame(df.isnull().sum().sort_values(ascending=False), columns = [\"missing_count\"])\n",
    "\n",
    "missing_value[\"missing_percent\"] = missing_value[\"missing_count\"].apply(lambda x : round(float(x) * 100/df.shape[0], 2))\n",
    "\n",
    "missing_value = missing_value[missing_value[\"missing_count\"] > 0]\n",
    "\n",
    "missing_value"
   ]
  },
  {
   "cell_type": "code",
   "execution_count": 8,
   "metadata": {},
   "outputs": [
    {
     "data": {
      "text/html": [
       "<div>\n",
       "<style scoped>\n",
       "    .dataframe tbody tr th:only-of-type {\n",
       "        vertical-align: middle;\n",
       "    }\n",
       "\n",
       "    .dataframe tbody tr th {\n",
       "        vertical-align: top;\n",
       "    }\n",
       "\n",
       "    .dataframe thead th {\n",
       "        text-align: right;\n",
       "    }\n",
       "</style>\n",
       "<table border=\"1\" class=\"dataframe\">\n",
       "  <thead>\n",
       "    <tr style=\"text-align: right;\">\n",
       "      <th></th>\n",
       "      <th>missing_count</th>\n",
       "      <th>missing_percent</th>\n",
       "    </tr>\n",
       "  </thead>\n",
       "  <tbody>\n",
       "    <tr>\n",
       "      <th>PoolQC</th>\n",
       "      <td>1453</td>\n",
       "      <td>99.52</td>\n",
       "    </tr>\n",
       "    <tr>\n",
       "      <th>MiscFeature</th>\n",
       "      <td>1406</td>\n",
       "      <td>96.30</td>\n",
       "    </tr>\n",
       "    <tr>\n",
       "      <th>Alley</th>\n",
       "      <td>1369</td>\n",
       "      <td>93.77</td>\n",
       "    </tr>\n",
       "    <tr>\n",
       "      <th>Fence</th>\n",
       "      <td>1179</td>\n",
       "      <td>80.75</td>\n",
       "    </tr>\n",
       "    <tr>\n",
       "      <th>MasVnrType</th>\n",
       "      <td>872</td>\n",
       "      <td>59.73</td>\n",
       "    </tr>\n",
       "    <tr>\n",
       "      <th>FireplaceQu</th>\n",
       "      <td>690</td>\n",
       "      <td>47.26</td>\n",
       "    </tr>\n",
       "  </tbody>\n",
       "</table>\n",
       "</div>"
      ],
      "text/plain": [
       "             missing_count  missing_percent\n",
       "PoolQC                1453            99.52\n",
       "MiscFeature           1406            96.30\n",
       "Alley                 1369            93.77\n",
       "Fence                 1179            80.75\n",
       "MasVnrType             872            59.73\n",
       "FireplaceQu            690            47.26"
      ]
     },
     "execution_count": 8,
     "metadata": {},
     "output_type": "execute_result"
    }
   ],
   "source": [
    "missing_value[missing_value[\"missing_percent\"] > 40]"
   ]
  },
  {
   "cell_type": "code",
   "execution_count": 9,
   "metadata": {},
   "outputs": [],
   "source": [
    "#drop columns with high missing values\n",
    "\n",
    "df = df.drop([\"PoolQC\", \"MiscFeature\", \"Alley\", \"Fence\", \"MasVnrType\", \"FireplaceQu\"], axis=1)"
   ]
  },
  {
   "cell_type": "code",
   "execution_count": 10,
   "metadata": {},
   "outputs": [],
   "source": [
    "#drop rows with missing values\n",
    "\n",
    "df.dropna(inplace=True)"
   ]
  },
  {
   "cell_type": "code",
   "execution_count": 11,
   "metadata": {},
   "outputs": [
    {
     "data": {
      "text/plain": [
       "(1094, 75)"
      ]
     },
     "execution_count": 11,
     "metadata": {},
     "output_type": "execute_result"
    }
   ],
   "source": [
    "df.shape"
   ]
  },
  {
   "cell_type": "code",
   "execution_count": 12,
   "metadata": {},
   "outputs": [
    {
     "data": {
      "application/vnd.plotly.v1+json": {
       "config": {
        "plotlyServerURL": "https://plot.ly"
       },
       "data": [
        {
         "alignmentgroup": "True",
         "bingroup": "x",
         "hovertemplate": "SalePrice=%{x}<br>count=%{y}<extra></extra>",
         "legendgroup": "",
         "marker": {
          "color": "#636efa",
          "pattern": {
           "shape": ""
          }
         },
         "name": "",
         "offsetgroup": "",
         "orientation": "v",
         "showlegend": false,
         "type": "histogram",
         "x": [
          208500,
          181500,
          223500,
          140000,
          250000,
          143000,
          307000,
          129900,
          118000,
          129500,
          345000,
          279500,
          132000,
          159000,
          139000,
          325300,
          139400,
          230000,
          129900,
          256300,
          134800,
          306000,
          207500,
          68500,
          40000,
          179900,
          165500,
          277500,
          309000,
          145000,
          153000,
          109000,
          160000,
          170000,
          141000,
          319900,
          239686,
          249700,
          127000,
          114500,
          110000,
          385000,
          130000,
          180500,
          172500,
          196500,
          438780,
          124900,
          158000,
          101000,
          202500,
          140000,
          317000,
          226000,
          80000,
          225000,
          244000,
          129500,
          185000,
          144900,
          107400,
          91000,
          127000,
          110000,
          193500,
          153500,
          245000,
          126500,
          260000,
          174000,
          164500,
          98600,
          163500,
          133900,
          204750,
          214000,
          94750,
          83000,
          178000,
          198900,
          250000,
          100000,
          115000,
          190000,
          136900,
          383970,
          259500,
          176000,
          155000,
          320000,
          163990,
          100000,
          136000,
          153900,
          181000,
          155000,
          150000,
          226000,
          150750,
          180000,
          174000,
          171000,
          230000,
          231500,
          260000,
          166000,
          204000,
          125000,
          130000,
          105000,
          122000,
          372402,
          125000,
          269500,
          254900,
          320000,
          412500,
          220000,
          152000,
          325624,
          183500,
          215000,
          239000,
          163000,
          184000,
          243000,
          211000,
          501837,
          100000,
          200100,
          200000,
          127000,
          475000,
          135000,
          153337,
          286000,
          315000,
          192000,
          130000,
          127000,
          148500,
          311872,
          235000,
          274900,
          140000,
          171500,
          112000,
          110000,
          180500,
          143900,
          145000,
          186000,
          252678,
          156000,
          134450,
          210000,
          107000,
          167240,
          204900,
          179900,
          97000,
          386250,
          112000,
          290000,
          106000,
          125000,
          192500,
          148000,
          403000,
          94500,
          128200,
          89500,
          185500,
          318000,
          113000,
          262500,
          79000,
          120000,
          241500,
          137000,
          140000,
          180000,
          235000,
          173000,
          158000,
          145000,
          230000,
          207500,
          220000,
          231500,
          176000,
          276000,
          151000,
          130000,
          73000,
          175500,
          185000,
          179500,
          120500,
          266000,
          241500,
          290000,
          139000,
          124500,
          205000,
          201000,
          141000,
          415298,
          192000,
          228500,
          185000,
          207500,
          244600,
          179200,
          164700,
          159000,
          153575,
          233230,
          131000,
          167000,
          142500,
          152000,
          239000,
          175000,
          158500,
          157000,
          267000,
          205000,
          149900,
          295000,
          305900,
          225000,
          360000,
          132000,
          119900,
          375000,
          178000,
          188500,
          260000,
          270000,
          260000,
          342643,
          354000,
          301000,
          126175,
          242000,
          87000,
          324000,
          145250,
          78000,
          139000,
          207000,
          192000,
          377426,
          214000,
          202500,
          155000,
          202900,
          82000,
          266000,
          85000,
          140200,
          154000,
          437154,
          318061,
          95000,
          105900,
          140000,
          177500,
          134000,
          130000,
          280000,
          118000,
          147000,
          165000,
          132000,
          125000,
          123000,
          219500,
          148000,
          340000,
          394432,
          179000,
          127000,
          187750,
          213500,
          76000,
          192000,
          125000,
          191000,
          426000,
          119000,
          215000,
          109000,
          129000,
          123000,
          169500,
          67000,
          241000,
          245500,
          164990,
          108000,
          258000,
          115000,
          177000,
          280000,
          339750,
          60000,
          145000,
          115000,
          228000,
          181134,
          149500,
          239000,
          126000,
          142000,
          206300,
          113000,
          315000,
          139000,
          135000,
          109008,
          195400,
          175000,
          85400,
          122500,
          181000,
          212000,
          116000,
          119000,
          90350,
          110000,
          555000,
          162900,
          172500,
          210000,
          127500,
          190000,
          119500,
          120000,
          110000,
          280000,
          210000,
          188000,
          175500,
          98000,
          263435,
          155000,
          62383,
          188700,
          167000,
          146500,
          250000,
          187000,
          190000,
          148000,
          440000,
          251000,
          132500,
          208900,
          380000,
          297000,
          89471,
          326000,
          374000,
          155000,
          164000,
          147000,
          156000,
          175000,
          160000,
          86000,
          133000,
          172785,
          155000,
          91300,
          184000,
          130000,
          120000,
          113000,
          226700,
          140000,
          289000,
          147000,
          124500,
          215000,
          208300,
          161000,
          124500,
          164900,
          202665,
          129900,
          134000,
          96500,
          402861,
          265000,
          234000,
          150000,
          159000,
          184750,
          315750,
          176000,
          132000,
          446261,
          175000,
          128000,
          178000,
          188000,
          315000,
          213250,
          133000,
          179665,
          210000,
          129500,
          125000,
          263000,
          140000,
          112500,
          255500,
          284000,
          113000,
          141000,
          108000,
          175000,
          170000,
          185000,
          128000,
          325000,
          214000,
          316600,
          142600,
          120000,
          224500,
          170000,
          139000,
          118500,
          145000,
          164500,
          146000,
          131500,
          253293,
          325000,
          133000,
          369900,
          130000,
          137000,
          143000,
          79500,
          185900,
          451950,
          138000,
          110000,
          319000,
          114504,
          194201,
          217500,
          151000,
          275000,
          141000,
          220000,
          151000,
          221000,
          205000,
          152000,
          225000,
          359100,
          118500,
          137500,
          105500,
          314813,
          305000,
          240000,
          135000,
          165150,
          160000,
          153000,
          135000,
          168500,
          124000,
          209500,
          82500,
          139400,
          144000,
          93000,
          264561,
          274000,
          345000,
          152000,
          370878,
          155000,
          155000,
          108000,
          191000,
          135000,
          350000,
          88000,
          145500,
          149000,
          97500,
          167000,
          402000,
          110000,
          137500,
          423000,
          230500,
          193500,
          137500,
          173500,
          103600,
          257500,
          140000,
          148500,
          87000,
          109500,
          372500,
          143000,
          159434,
          285000,
          221000,
          227875,
          392000,
          194700,
          755000,
          335000,
          108480,
          141500,
          176000,
          89000,
          123500,
          138500,
          196000,
          312500,
          140000,
          361919,
          140000,
          213000,
          254000,
          179540,
          102776,
          189000,
          129000,
          165000,
          159500,
          157000,
          341000,
          128500,
          124500,
          135000,
          320000,
          120500,
          194500,
          110000,
          103000,
          236500,
          187500,
          222500,
          131400,
          163000,
          239900,
          190000,
          132000,
          142000,
          179000,
          175000,
          180000,
          265979,
          260400,
          217000,
          275500,
          156000,
          172500,
          212000,
          179400,
          290000,
          127500,
          100000,
          215200,
          337000,
          270000,
          264132,
          196500,
          160000,
          216837,
          538000,
          102000,
          107000,
          114500,
          395000,
          162000,
          221500,
          142500,
          135000,
          176000,
          175900,
          187100,
          139000,
          233000,
          107900,
          160200,
          269790,
          225000,
          171000,
          143500,
          110000,
          485000,
          175000,
          200000,
          109900,
          189000,
          582933,
          118000,
          227680,
          135500,
          223500,
          159950,
          106000,
          181000,
          55993,
          157900,
          116000,
          224900,
          155000,
          224000,
          183000,
          93000,
          139500,
          232600,
          385000,
          189000,
          147400,
          166000,
          151000,
          237000,
          167000,
          139950,
          128000,
          153500,
          100000,
          144000,
          130500,
          157500,
          174900,
          153900,
          213000,
          133500,
          240000,
          187000,
          131500,
          164000,
          170000,
          174000,
          152000,
          189950,
          131500,
          152000,
          132500,
          250580,
          248900,
          129000,
          236000,
          109500,
          200500,
          116000,
          133000,
          66500,
          303477,
          132250,
          350000,
          148000,
          157000,
          187500,
          118500,
          100000,
          328900,
          145000,
          135500,
          268000,
          149500,
          122900,
          172500,
          154500,
          140000,
          106500,
          611657,
          135000,
          153000,
          180000,
          240000,
          128000,
          255000,
          250000,
          174000,
          154300,
          88000,
          145000,
          173733,
          75000,
          35311,
          238000,
          176500,
          201000,
          169990,
          193000,
          207500,
          285000,
          201000,
          117500,
          320000,
          190000,
          242000,
          79900,
          253000,
          239799,
          150900,
          143000,
          124900,
          143000,
          270000,
          197500,
          129000,
          119900,
          133900,
          145000,
          124000,
          132000,
          185000,
          155000,
          155000,
          239000,
          214900,
          178900,
          160000,
          140000,
          173000,
          99500,
          167500,
          110000,
          139000,
          336000,
          159895,
          125000,
          117000,
          395192,
          197000,
          348000,
          168000,
          187000,
          173900,
          337500,
          121600,
          91000,
          206000,
          86000,
          232000,
          181000,
          149900,
          88000,
          240000,
          135000,
          165000,
          85000,
          119200,
          227000,
          203000,
          213490,
          176000,
          194000,
          87000,
          191000,
          112500,
          167500,
          293077,
          105000,
          118000,
          197000,
          119750,
          315500,
          80000,
          155000,
          196000,
          262280,
          278000,
          556581,
          145000,
          176485,
          200141,
          165000,
          144500,
          255000,
          180000,
          185850,
          335000,
          213500,
          81000,
          90000,
          110500,
          328000,
          178000,
          167900,
          151400,
          135000,
          135000,
          154000,
          91500,
          159500,
          194000,
          219500,
          170000,
          155900,
          126000,
          145000,
          133000,
          192000,
          160000,
          147000,
          252000,
          137500,
          197000,
          160000,
          136500,
          146000,
          129000,
          176432,
          128000,
          157000,
          60000,
          119500,
          135000,
          159500,
          106000,
          325000,
          179900,
          274725,
          280000,
          205000,
          129900,
          134500,
          117000,
          318000,
          130000,
          140000,
          133700,
          118400,
          212900,
          115000,
          174000,
          259000,
          215000,
          140000,
          135000,
          117500,
          239500,
          169000,
          102000,
          119000,
          144000,
          139000,
          424870,
          80000,
          149000,
          174500,
          143000,
          124000,
          149900,
          230000,
          218000,
          179900,
          230000,
          235128,
          185000,
          146000,
          129000,
          108959,
          233170,
          245350,
          173000,
          235000,
          625000,
          171000,
          163000,
          171900,
          239000,
          285000,
          119500,
          154900,
          392500,
          745000,
          120000,
          186700,
          104900,
          95000,
          262000,
          195000,
          189000,
          174000,
          125000,
          158000,
          176000,
          219210,
          144000,
          178000,
          148000,
          116050,
          197900,
          117000,
          213000,
          153500,
          271900,
          200000,
          140000,
          290000,
          189000,
          164000,
          113000,
          134500,
          125000,
          229456,
          115000,
          134000,
          143000,
          137900,
          184000,
          145000,
          214000,
          147000,
          367294,
          127000,
          132500,
          138887,
          175500,
          195000,
          142500,
          265900,
          224900,
          248328,
          170000,
          178000,
          186500,
          129500,
          119000,
          244000,
          130000,
          165400,
          127500,
          301500,
          190000,
          151000,
          128900,
          180500,
          181000,
          183900,
          122000,
          378500,
          144000,
          177000,
          139000,
          137000,
          68400,
          227000,
          180000,
          150500,
          169000,
          132500,
          278000,
          281000,
          119500,
          107500,
          162900,
          115000,
          138500,
          155000,
          140000,
          160000,
          154000,
          290000,
          232000,
          130000,
          325000,
          202500,
          138000,
          147000,
          335000,
          203000,
          333168,
          119000,
          206900,
          295493,
          208900,
          111000,
          156500,
          190000,
          147000,
          130500,
          256000,
          176500,
          227000,
          132500,
          100000,
          125500,
          125000,
          167900,
          135000,
          200000,
          128500,
          123000,
          155000,
          177000,
          155835,
          108500,
          283463,
          200000,
          171000,
          134900,
          410000,
          170000,
          315000,
          189000,
          260000,
          156932,
          144152,
          193000,
          127000,
          232000,
          105000,
          165500,
          274300,
          250000,
          239000,
          91000,
          117000,
          83000,
          58500,
          157000,
          105000,
          125500,
          250000,
          136000,
          377500,
          131000,
          235000,
          124000,
          123000,
          163000,
          246578,
          281213,
          137500,
          138000,
          137450,
          120000,
          193000,
          193879,
          282922,
          105000,
          275000,
          133000,
          125500,
          215000,
          230000,
          140000,
          257000,
          207000,
          175900,
          122500,
          124000,
          179900,
          127500,
          136500,
          142000,
          271000,
          140000,
          119000,
          192140,
          64500,
          186500,
          160000,
          174000,
          120500,
          394617,
          149700,
          197000,
          191000,
          310000,
          179600,
          129000,
          240000,
          112000,
          287090,
          145000,
          185000,
          175000,
          210000,
          266500,
          142125,
          147500
         ],
         "xaxis": "x",
         "yaxis": "y"
        }
       ],
       "layout": {
        "barmode": "relative",
        "legend": {
         "tracegroupgap": 0
        },
        "template": {
         "data": {
          "bar": [
           {
            "error_x": {
             "color": "#2a3f5f"
            },
            "error_y": {
             "color": "#2a3f5f"
            },
            "marker": {
             "line": {
              "color": "#E5ECF6",
              "width": 0.5
             },
             "pattern": {
              "fillmode": "overlay",
              "size": 10,
              "solidity": 0.2
             }
            },
            "type": "bar"
           }
          ],
          "barpolar": [
           {
            "marker": {
             "line": {
              "color": "#E5ECF6",
              "width": 0.5
             },
             "pattern": {
              "fillmode": "overlay",
              "size": 10,
              "solidity": 0.2
             }
            },
            "type": "barpolar"
           }
          ],
          "carpet": [
           {
            "aaxis": {
             "endlinecolor": "#2a3f5f",
             "gridcolor": "white",
             "linecolor": "white",
             "minorgridcolor": "white",
             "startlinecolor": "#2a3f5f"
            },
            "baxis": {
             "endlinecolor": "#2a3f5f",
             "gridcolor": "white",
             "linecolor": "white",
             "minorgridcolor": "white",
             "startlinecolor": "#2a3f5f"
            },
            "type": "carpet"
           }
          ],
          "choropleth": [
           {
            "colorbar": {
             "outlinewidth": 0,
             "ticks": ""
            },
            "type": "choropleth"
           }
          ],
          "contour": [
           {
            "colorbar": {
             "outlinewidth": 0,
             "ticks": ""
            },
            "colorscale": [
             [
              0,
              "#0d0887"
             ],
             [
              0.1111111111111111,
              "#46039f"
             ],
             [
              0.2222222222222222,
              "#7201a8"
             ],
             [
              0.3333333333333333,
              "#9c179e"
             ],
             [
              0.4444444444444444,
              "#bd3786"
             ],
             [
              0.5555555555555556,
              "#d8576b"
             ],
             [
              0.6666666666666666,
              "#ed7953"
             ],
             [
              0.7777777777777778,
              "#fb9f3a"
             ],
             [
              0.8888888888888888,
              "#fdca26"
             ],
             [
              1,
              "#f0f921"
             ]
            ],
            "type": "contour"
           }
          ],
          "contourcarpet": [
           {
            "colorbar": {
             "outlinewidth": 0,
             "ticks": ""
            },
            "type": "contourcarpet"
           }
          ],
          "heatmap": [
           {
            "colorbar": {
             "outlinewidth": 0,
             "ticks": ""
            },
            "colorscale": [
             [
              0,
              "#0d0887"
             ],
             [
              0.1111111111111111,
              "#46039f"
             ],
             [
              0.2222222222222222,
              "#7201a8"
             ],
             [
              0.3333333333333333,
              "#9c179e"
             ],
             [
              0.4444444444444444,
              "#bd3786"
             ],
             [
              0.5555555555555556,
              "#d8576b"
             ],
             [
              0.6666666666666666,
              "#ed7953"
             ],
             [
              0.7777777777777778,
              "#fb9f3a"
             ],
             [
              0.8888888888888888,
              "#fdca26"
             ],
             [
              1,
              "#f0f921"
             ]
            ],
            "type": "heatmap"
           }
          ],
          "heatmapgl": [
           {
            "colorbar": {
             "outlinewidth": 0,
             "ticks": ""
            },
            "colorscale": [
             [
              0,
              "#0d0887"
             ],
             [
              0.1111111111111111,
              "#46039f"
             ],
             [
              0.2222222222222222,
              "#7201a8"
             ],
             [
              0.3333333333333333,
              "#9c179e"
             ],
             [
              0.4444444444444444,
              "#bd3786"
             ],
             [
              0.5555555555555556,
              "#d8576b"
             ],
             [
              0.6666666666666666,
              "#ed7953"
             ],
             [
              0.7777777777777778,
              "#fb9f3a"
             ],
             [
              0.8888888888888888,
              "#fdca26"
             ],
             [
              1,
              "#f0f921"
             ]
            ],
            "type": "heatmapgl"
           }
          ],
          "histogram": [
           {
            "marker": {
             "pattern": {
              "fillmode": "overlay",
              "size": 10,
              "solidity": 0.2
             }
            },
            "type": "histogram"
           }
          ],
          "histogram2d": [
           {
            "colorbar": {
             "outlinewidth": 0,
             "ticks": ""
            },
            "colorscale": [
             [
              0,
              "#0d0887"
             ],
             [
              0.1111111111111111,
              "#46039f"
             ],
             [
              0.2222222222222222,
              "#7201a8"
             ],
             [
              0.3333333333333333,
              "#9c179e"
             ],
             [
              0.4444444444444444,
              "#bd3786"
             ],
             [
              0.5555555555555556,
              "#d8576b"
             ],
             [
              0.6666666666666666,
              "#ed7953"
             ],
             [
              0.7777777777777778,
              "#fb9f3a"
             ],
             [
              0.8888888888888888,
              "#fdca26"
             ],
             [
              1,
              "#f0f921"
             ]
            ],
            "type": "histogram2d"
           }
          ],
          "histogram2dcontour": [
           {
            "colorbar": {
             "outlinewidth": 0,
             "ticks": ""
            },
            "colorscale": [
             [
              0,
              "#0d0887"
             ],
             [
              0.1111111111111111,
              "#46039f"
             ],
             [
              0.2222222222222222,
              "#7201a8"
             ],
             [
              0.3333333333333333,
              "#9c179e"
             ],
             [
              0.4444444444444444,
              "#bd3786"
             ],
             [
              0.5555555555555556,
              "#d8576b"
             ],
             [
              0.6666666666666666,
              "#ed7953"
             ],
             [
              0.7777777777777778,
              "#fb9f3a"
             ],
             [
              0.8888888888888888,
              "#fdca26"
             ],
             [
              1,
              "#f0f921"
             ]
            ],
            "type": "histogram2dcontour"
           }
          ],
          "mesh3d": [
           {
            "colorbar": {
             "outlinewidth": 0,
             "ticks": ""
            },
            "type": "mesh3d"
           }
          ],
          "parcoords": [
           {
            "line": {
             "colorbar": {
              "outlinewidth": 0,
              "ticks": ""
             }
            },
            "type": "parcoords"
           }
          ],
          "pie": [
           {
            "automargin": true,
            "type": "pie"
           }
          ],
          "scatter": [
           {
            "fillpattern": {
             "fillmode": "overlay",
             "size": 10,
             "solidity": 0.2
            },
            "type": "scatter"
           }
          ],
          "scatter3d": [
           {
            "line": {
             "colorbar": {
              "outlinewidth": 0,
              "ticks": ""
             }
            },
            "marker": {
             "colorbar": {
              "outlinewidth": 0,
              "ticks": ""
             }
            },
            "type": "scatter3d"
           }
          ],
          "scattercarpet": [
           {
            "marker": {
             "colorbar": {
              "outlinewidth": 0,
              "ticks": ""
             }
            },
            "type": "scattercarpet"
           }
          ],
          "scattergeo": [
           {
            "marker": {
             "colorbar": {
              "outlinewidth": 0,
              "ticks": ""
             }
            },
            "type": "scattergeo"
           }
          ],
          "scattergl": [
           {
            "marker": {
             "colorbar": {
              "outlinewidth": 0,
              "ticks": ""
             }
            },
            "type": "scattergl"
           }
          ],
          "scattermapbox": [
           {
            "marker": {
             "colorbar": {
              "outlinewidth": 0,
              "ticks": ""
             }
            },
            "type": "scattermapbox"
           }
          ],
          "scatterpolar": [
           {
            "marker": {
             "colorbar": {
              "outlinewidth": 0,
              "ticks": ""
             }
            },
            "type": "scatterpolar"
           }
          ],
          "scatterpolargl": [
           {
            "marker": {
             "colorbar": {
              "outlinewidth": 0,
              "ticks": ""
             }
            },
            "type": "scatterpolargl"
           }
          ],
          "scatterternary": [
           {
            "marker": {
             "colorbar": {
              "outlinewidth": 0,
              "ticks": ""
             }
            },
            "type": "scatterternary"
           }
          ],
          "surface": [
           {
            "colorbar": {
             "outlinewidth": 0,
             "ticks": ""
            },
            "colorscale": [
             [
              0,
              "#0d0887"
             ],
             [
              0.1111111111111111,
              "#46039f"
             ],
             [
              0.2222222222222222,
              "#7201a8"
             ],
             [
              0.3333333333333333,
              "#9c179e"
             ],
             [
              0.4444444444444444,
              "#bd3786"
             ],
             [
              0.5555555555555556,
              "#d8576b"
             ],
             [
              0.6666666666666666,
              "#ed7953"
             ],
             [
              0.7777777777777778,
              "#fb9f3a"
             ],
             [
              0.8888888888888888,
              "#fdca26"
             ],
             [
              1,
              "#f0f921"
             ]
            ],
            "type": "surface"
           }
          ],
          "table": [
           {
            "cells": {
             "fill": {
              "color": "#EBF0F8"
             },
             "line": {
              "color": "white"
             }
            },
            "header": {
             "fill": {
              "color": "#C8D4E3"
             },
             "line": {
              "color": "white"
             }
            },
            "type": "table"
           }
          ]
         },
         "layout": {
          "annotationdefaults": {
           "arrowcolor": "#2a3f5f",
           "arrowhead": 0,
           "arrowwidth": 1
          },
          "autotypenumbers": "strict",
          "coloraxis": {
           "colorbar": {
            "outlinewidth": 0,
            "ticks": ""
           }
          },
          "colorscale": {
           "diverging": [
            [
             0,
             "#8e0152"
            ],
            [
             0.1,
             "#c51b7d"
            ],
            [
             0.2,
             "#de77ae"
            ],
            [
             0.3,
             "#f1b6da"
            ],
            [
             0.4,
             "#fde0ef"
            ],
            [
             0.5,
             "#f7f7f7"
            ],
            [
             0.6,
             "#e6f5d0"
            ],
            [
             0.7,
             "#b8e186"
            ],
            [
             0.8,
             "#7fbc41"
            ],
            [
             0.9,
             "#4d9221"
            ],
            [
             1,
             "#276419"
            ]
           ],
           "sequential": [
            [
             0,
             "#0d0887"
            ],
            [
             0.1111111111111111,
             "#46039f"
            ],
            [
             0.2222222222222222,
             "#7201a8"
            ],
            [
             0.3333333333333333,
             "#9c179e"
            ],
            [
             0.4444444444444444,
             "#bd3786"
            ],
            [
             0.5555555555555556,
             "#d8576b"
            ],
            [
             0.6666666666666666,
             "#ed7953"
            ],
            [
             0.7777777777777778,
             "#fb9f3a"
            ],
            [
             0.8888888888888888,
             "#fdca26"
            ],
            [
             1,
             "#f0f921"
            ]
           ],
           "sequentialminus": [
            [
             0,
             "#0d0887"
            ],
            [
             0.1111111111111111,
             "#46039f"
            ],
            [
             0.2222222222222222,
             "#7201a8"
            ],
            [
             0.3333333333333333,
             "#9c179e"
            ],
            [
             0.4444444444444444,
             "#bd3786"
            ],
            [
             0.5555555555555556,
             "#d8576b"
            ],
            [
             0.6666666666666666,
             "#ed7953"
            ],
            [
             0.7777777777777778,
             "#fb9f3a"
            ],
            [
             0.8888888888888888,
             "#fdca26"
            ],
            [
             1,
             "#f0f921"
            ]
           ]
          },
          "colorway": [
           "#636efa",
           "#EF553B",
           "#00cc96",
           "#ab63fa",
           "#FFA15A",
           "#19d3f3",
           "#FF6692",
           "#B6E880",
           "#FF97FF",
           "#FECB52"
          ],
          "font": {
           "color": "#2a3f5f"
          },
          "geo": {
           "bgcolor": "white",
           "lakecolor": "white",
           "landcolor": "#E5ECF6",
           "showlakes": true,
           "showland": true,
           "subunitcolor": "white"
          },
          "hoverlabel": {
           "align": "left"
          },
          "hovermode": "closest",
          "mapbox": {
           "style": "light"
          },
          "paper_bgcolor": "white",
          "plot_bgcolor": "#E5ECF6",
          "polar": {
           "angularaxis": {
            "gridcolor": "white",
            "linecolor": "white",
            "ticks": ""
           },
           "bgcolor": "#E5ECF6",
           "radialaxis": {
            "gridcolor": "white",
            "linecolor": "white",
            "ticks": ""
           }
          },
          "scene": {
           "xaxis": {
            "backgroundcolor": "#E5ECF6",
            "gridcolor": "white",
            "gridwidth": 2,
            "linecolor": "white",
            "showbackground": true,
            "ticks": "",
            "zerolinecolor": "white"
           },
           "yaxis": {
            "backgroundcolor": "#E5ECF6",
            "gridcolor": "white",
            "gridwidth": 2,
            "linecolor": "white",
            "showbackground": true,
            "ticks": "",
            "zerolinecolor": "white"
           },
           "zaxis": {
            "backgroundcolor": "#E5ECF6",
            "gridcolor": "white",
            "gridwidth": 2,
            "linecolor": "white",
            "showbackground": true,
            "ticks": "",
            "zerolinecolor": "white"
           }
          },
          "shapedefaults": {
           "line": {
            "color": "#2a3f5f"
           }
          },
          "ternary": {
           "aaxis": {
            "gridcolor": "white",
            "linecolor": "white",
            "ticks": ""
           },
           "baxis": {
            "gridcolor": "white",
            "linecolor": "white",
            "ticks": ""
           },
           "bgcolor": "#E5ECF6",
           "caxis": {
            "gridcolor": "white",
            "linecolor": "white",
            "ticks": ""
           }
          },
          "title": {
           "x": 0.05
          },
          "xaxis": {
           "automargin": true,
           "gridcolor": "white",
           "linecolor": "white",
           "ticks": "",
           "title": {
            "standoff": 15
           },
           "zerolinecolor": "white",
           "zerolinewidth": 2
          },
          "yaxis": {
           "automargin": true,
           "gridcolor": "white",
           "linecolor": "white",
           "ticks": "",
           "title": {
            "standoff": 15
           },
           "zerolinecolor": "white",
           "zerolinewidth": 2
          }
         }
        },
        "title": {
         "text": "SalePrice Distribution"
        },
        "xaxis": {
         "anchor": "y",
         "domain": [
          0,
          1
         ],
         "title": {
          "text": "SalePrice"
         }
        },
        "yaxis": {
         "anchor": "x",
         "domain": [
          0,
          1
         ],
         "title": {
          "text": "count"
         }
        }
       }
      }
     },
     "metadata": {},
     "output_type": "display_data"
    }
   ],
   "source": [
    "fig = px.histogram(df[\"SalePrice\"], x = \"SalePrice\", title = \"SalePrice Distribution\")\n",
    "fig.show()"
   ]
  },
  {
   "cell_type": "code",
   "execution_count": 23,
   "metadata": {},
   "outputs": [],
   "source": [
    "df[\"log_sale_price\"] = np.log(df[\"SalePrice\"])\n",
    "df.drop([\"SalePrice\"], axis = 1, inplace = True)"
   ]
  },
  {
   "cell_type": "code",
   "execution_count": 24,
   "metadata": {},
   "outputs": [
    {
     "data": {
      "application/vnd.plotly.v1+json": {
       "config": {
        "plotlyServerURL": "https://plot.ly"
       },
       "data": [
        {
         "alignmentgroup": "True",
         "bingroup": "x",
         "hovertemplate": "log_sale_price=%{x}<br>count=%{y}<extra></extra>",
         "legendgroup": "",
         "marker": {
          "color": "#636efa",
          "pattern": {
           "shape": ""
          }
         },
         "name": "",
         "offsetgroup": "",
         "orientation": "v",
         "showlegend": false,
         "type": "histogram",
         "x": [
          12.247694320220994,
          12.109010932687042,
          12.31716669303576,
          11.84939770159144,
          12.429216196844383,
          11.870599909242044,
          12.634603026569334,
          11.77452020265869,
          11.678439903447801,
          11.771436160121729,
          12.751299696013497,
          12.540757571577291,
          11.790557201568507,
          11.976659481202368,
          11.842229212112828,
          12.692503112461443,
          11.845102777308561,
          12.345834587905333,
          11.77452020265869,
          12.454103912352162,
          11.811547477460344,
          12.631340380934517,
          12.24288661865289,
          11.134589024250317,
          10.596634733096073,
          12.100156419938624,
          12.016726473799254,
          12.533576212168626,
          12.641096555879882,
          11.884489021402711,
          11.938193200374572,
          11.59910316121128,
          11.982929094215963,
          12.043553716032399,
          11.856515169360305,
          12.675763725937609,
          12.387085012375499,
          12.428015476267865,
          11.751942365440728,
          11.648330101976432,
          11.608235644774552,
          12.86099861326992,
          11.77528972943772,
          12.103486056755072,
          12.058152515453552,
          12.188417710291453,
          12.991753427493052,
          11.73526869611367,
          11.970350312009105,
          11.522875795823397,
          12.218495165528731,
          11.84939770159144,
          12.666657052859417,
          12.328290278254423,
          11.289781913656018,
          12.323855681186558,
          12.404923504275338,
          11.771436160121729,
          12.128111104060462,
          11.883799128308773,
          11.584315461056901,
          11.418614785498987,
          11.751942365440728,
          11.608235644774552,
          12.173032791451973,
          11.941455846009388,
          12.409013489526863,
          11.747997587149712,
          12.468436909997665,
          12.066810578196666,
          12.010665849187564,
          11.498826540590727,
          12.004568269319446,
          11.804848531679264,
          12.229545001715316,
          12.273731294003989,
          11.458997122944673,
          11.326595886778735,
          12.089538829274222,
          12.200557464842063,
          12.429216196844383,
          11.512925464970229,
          11.652687407345388,
          12.154779351142624,
          11.82700601127654,
          12.858319703517948,
          12.46651198158808,
          12.078239274020289,
          11.951180395901384,
          12.676076274775909,
          12.007560729337492,
          11.512925464970229,
          11.820410164718188,
          11.94405831982697,
          12.106252310247962,
          11.951180395901384,
          11.918390573078392,
          12.328290278254423,
          11.923378114589433,
          12.100712129872347,
          12.066810578196666,
          12.049418835484797,
          12.345834587905333,
          12.352335152508426,
          12.468436909997665,
          12.01974306733868,
          12.225875272826354,
          11.736069016284437,
          11.77528972943772,
          11.56171562913966,
          11.711776323715394,
          12.827729194939907,
          11.736069016284437,
          12.504323669331189,
          12.448626590364206,
          12.676076274775909,
          12.929991484756872,
          12.301382825334498,
          11.931635799828413,
          12.693498620467778,
          12.119969946476761,
          12.2783933071098,
          12.384218830913648,
          12.0015054797889,
          12.122691036591123,
          12.400816722322686,
          12.259613412458204,
          13.1260306447518,
          11.512925464970229,
          12.206572520571825,
          12.206072645530174,
          11.751942365440728,
          13.071070083016778,
          11.813030057420567,
          11.940393392554734,
          12.56374708980199,
          12.66032791780777,
          12.165250651009918,
          11.77528972943772,
          11.751942365440728,
          11.908340237224891,
          12.650348126203179,
          12.367340793126296,
          12.524162674153336,
          11.84939770159144,
          12.052338545588132,
          11.626254150277232,
          11.608235644774552,
          12.103486056755072,
          11.876873892875459,
          11.884489021402711,
          12.133501952695338,
          12.439871229831715,
          11.957611286231675,
          11.80894766169701,
          12.254862809699606,
          11.580584113444043,
          12.0271851854705,
          12.230277334226992,
          12.100156419938624,
          11.48246625748552,
          12.864240107194092,
          11.626254150277232,
          12.577636201962656,
          11.571194373094205,
          11.736069016284437,
          12.167851432709975,
          11.904967552746252,
          12.90669184092882,
          11.456355113481834,
          11.761346823468706,
          11.401993904262946,
          12.130810161029627,
          12.669806661762314,
          11.635143097694478,
          12.478006361013815,
          11.27720313144916,
          11.695247021764184,
          12.394624752074764,
          11.827736204810263,
          11.84939770159144,
          12.100712129872347,
          12.367340793126296,
          12.061046873479915,
          11.970350312009105,
          11.884489021402711,
          12.345834587905333,
          12.24288661865289,
          12.301382825334498,
          12.352335152508426,
          12.078239274020289,
          12.528156144699286,
          11.925035115797062,
          11.77528972943772,
          11.198214720130528,
          12.075394321888057,
          12.128111104060462,
          12.097930486910471,
          11.699405031912846,
          12.491251587763836,
          12.394624752074764,
          12.577636201962656,
          11.842229212112828,
          11.732060994886899,
          12.230765258120545,
          12.211060187041213,
          11.856515169360305,
          12.936751613811438,
          12.165250651009918,
          12.339291489316397,
          12.128111104060462,
          12.24288661865289,
          12.407379502235209,
          12.096257779522967,
          12.011880916165731,
          11.976659481202368,
          11.941944326032129,
          12.359780370124389,
          11.782952602183288,
          12.025749091398891,
          11.867097278690842,
          11.931635799828413,
          12.384218830913648,
          12.072541252905651,
          11.973509872299472,
          11.964001084330445,
          12.495003937382387,
          12.230765258120545,
          11.917723684090689,
          12.594730635321957,
          12.631013530138995,
          12.323855681186558,
          12.793859310432293,
          11.790557201568507,
          11.694413341015606,
          12.834681304952548,
          12.089538829274222,
          12.146853285870202,
          12.468436909997665,
          12.506177237980511,
          12.468436909997665,
          12.7444443677961,
          12.777052192115912,
          12.614865543731012,
          11.745425111208464,
          12.396693005138824,
          11.37366339763672,
          12.688498794774466,
          11.886211674714158,
          11.26446410567173,
          11.842229212112828,
          12.240474072247506,
          12.165250651009918,
          12.841129801965447,
          12.273731294003989,
          12.218495165528731,
          11.951180395901384,
          12.220468525813907,
          11.314474526246391,
          12.491251587763836,
          11.350406535472453,
          11.850825253582627,
          11.944707881395766,
          12.988040814744458,
          12.669998467265833,
          11.461632170582678,
          11.570250531589497,
          11.84939770159144,
          12.086725887897607,
          11.805595078933049,
          11.77528972943772,
          12.542544882151386,
          11.678439903447801,
          11.898187865760873,
          12.013700752882718,
          11.790557201568507,
          11.736069016284437,
          11.719939634354555,
          12.299107511497363,
          11.904967552746252,
          12.736700896592344,
          12.885202034321916,
          12.095141084822892,
          11.751942365440728,
          12.142866569626381,
          12.271392111650817,
          11.238488619268468,
          12.165250651009918,
          11.736069016284437,
          12.160028707028767,
          12.962194625251508,
          11.686878772093667,
          12.2783933071098,
          11.59910316121128,
          11.76756768334381,
          11.719939634354555,
          12.040608205802641,
          11.112447898373103,
          12.392552212472792,
          12.411052226216713,
          12.01364014498549,
          11.589886506106357,
          12.460714863903755,
          11.652687407345388,
          12.083905011555967,
          12.542544882151386,
          12.73596533201339,
          11.002099841204238,
          11.884489021402711,
          11.652687407345388,
          12.337100907936577,
          12.106992367829498,
          11.915051671812877,
          12.384218830913648,
          11.744037185933616,
          11.863582336583399,
          12.237086699059343,
          11.635143097694478,
          12.66032791780777,
          11.842229212112828,
          11.813030057420567,
          11.59917655301345,
          12.182804018590819,
          12.072541252905651,
          11.355101379776661,
          11.715866308966918,
          12.106252310247962,
          12.26434155365415,
          11.661345470088502,
          11.686878772093667,
          11.411446296020374,
          11.608235644774552,
          13.226723392728571,
          12.000891794590137,
          12.058152515453552,
          12.254862809699606,
          11.755871643580617,
          12.154779351142624,
          11.691071650353702,
          11.695247021764184,
          11.608235644774552,
          12.542544882151386,
          12.254862809699606,
          12.144197241812087,
          12.075394321888057,
          11.49272275765271,
          12.481561937216318,
          11.951180395901384,
          11.041048081342682,
          12.147913731356642,
          12.025749091398891,
          11.894780707439258,
          12.429216196844383,
          12.138863895836725,
          12.154779351142624,
          11.904967552746252,
          12.994530005894443,
          12.43320821811392,
          11.794337924408413,
          12.249610947544657,
          12.84792653170257,
          12.601487417784837,
          11.401669829409995,
          12.694652660348845,
          12.832011076396668,
          11.951180395901384,
          12.007621706806335,
          11.898187865760873,
          11.957611286231675,
          12.072541252905651,
          11.982929094215963,
          11.362102575235644,
          11.79810440720389,
          12.059803326028716,
          11.951180395901384,
          11.421906066583059,
          12.122691036591123,
          11.77528972943772,
          11.695247021764184,
          11.635143097694478,
          12.33138283649562,
          11.84939770159144,
          12.57418196709457,
          11.898187865760873,
          11.732060994886899,
          12.2783933071098,
          12.246734627249063,
          11.9891596439666,
          11.732060994886899,
          12.01309450854769,
          12.219309648562168,
          11.77452020265869,
          11.805595078933049,
          11.477298287327077,
          12.906346868281233,
          12.487485104968359,
          12.363076394339839,
          11.918390573078392,
          11.976659481202368,
          12.126758838810447,
          12.662706040212738,
          12.078239274020289,
          11.790557201568507,
          13.008659261632127,
          12.072541252905651,
          11.759785542901755,
          12.089538829274222,
          12.144197241812087,
          12.66032791780777,
          12.270220465353926,
          11.79810440720389,
          12.09884928474215,
          12.254862809699606,
          11.771436160121729,
          11.736069016284437,
          12.479909311159902,
          11.84939770159144,
          11.630708500626612,
          12.450977688625896,
          12.556729517143344,
          11.635143097694478,
          11.856515169360305,
          11.589886506106357,
          12.072541252905651,
          12.043553716032399,
          12.128111104060462,
          11.759785542901755,
          12.691580461311874,
          12.273731294003989,
          12.66539442642905,
          11.867798786962332,
          11.695247021764184,
          12.321630986164447,
          12.043553716032399,
          11.842229212112828,
          11.682668239557323,
          11.884489021402711,
          12.010665849187564,
          11.891361900690473,
          11.786762130599957,
          12.442302200392747,
          12.691580461311874,
          11.79810440720389,
          12.820987977820545,
          11.77528972943772,
          11.827736204810263,
          11.870599909242044,
          11.283512300642423,
          12.132964173709535,
          13.021326833226556,
          11.835008964139341,
          11.608235644774552,
          12.672946381766982,
          11.648365035864053,
          12.17664898415669,
          12.289954129510877,
          11.925035115797062,
          12.524526376648708,
          11.856515169360305,
          12.301382825334498,
          11.925035115797062,
          12.30591798049989,
          12.230765258120545,
          11.931635799828413,
          12.323855681186558,
          12.791356180214175,
          11.682668239557323,
          11.831379196088763,
          11.566466231898259,
          12.659734090733718,
          12.628067055589549,
          12.388394202324129,
          11.813030057420567,
          12.014609430818936,
          11.982929094215963,
          11.938193200374572,
          11.813030057420567,
          12.034691028774553,
          11.728036844587175,
          12.25247901834433,
          11.320553572322773,
          11.845102777308561,
          11.877568578558138,
          11.440354772135393,
          12.485827127509431,
          12.520883385370206,
          12.751299696013497,
          11.931635799828413,
          12.823628446539173,
          11.951180395901384,
          11.951180395901384,
          11.589886506106357,
          12.160028707028767,
          11.813030057420567,
          12.765688433465597,
          11.385092093460344,
          11.887931365593685,
          11.911701584927597,
          11.487607656985938,
          12.025749091398891,
          12.904207367601158,
          11.608235644774552,
          11.831379196088763,
          12.955127458028414,
          12.348006141418841,
          12.173032791451973,
          11.831379196088763,
          12.063932878369052,
          11.54829260880752,
          12.458774999085929,
          11.84939770159144,
          11.908340237224891,
          11.37366339763672,
          11.603679828238693,
          12.827992316801751,
          11.870599909242044,
          11.979385322467598,
          12.560244459250788,
          12.30591798049989,
          12.336552511980964,
          12.8790171187726,
          12.17921519136029,
          13.534473028231162,
          12.721885810807203,
          11.594321103174222,
          11.86005499606543,
          12.078239274020289,
          11.396391648714276,
          11.72399643505017,
          11.83862560460953,
          12.185869938212655,
          12.652359748158593,
          11.84939770159144,
          12.799175708864519,
          11.84939770159144,
          12.269047444691562,
          12.445089546000673,
          12.09815330331068,
          11.540307141711446,
          12.14950229404178,
          11.76756768334381,
          12.013700752882718,
          11.979799201207037,
          11.964001084330445,
          12.739637756265655,
          11.763684183317412,
          11.732060994886899,
          11.813030057420567,
          12.676076274775909,
          11.699405031912846,
          12.178187442040638,
          11.608235644774552,
          11.542484267211773,
          12.373703486914124,
          12.141534124392603,
          12.312682380588432,
          11.786001385032646,
          12.0015054797889,
          12.387977448827787,
          12.154779351142624,
          11.790557201568507,
          11.863582336583399,
          12.095141084822892,
          12.072541252905651,
          12.100712129872347,
          12.491172637278908,
          12.46997418931655,
          12.287652632522597,
          12.526342907575106,
          11.957611286231675,
          12.058152515453552,
          12.26434155365415,
          12.097373228606832,
          12.577636201962656,
          11.755871643580617,
          11.512925464970229,
          12.279323107269766,
          12.727838209334498,
          12.506177237980511,
          12.484204257170104,
          12.188417710291453,
          11.982929094215963,
          12.28690119819279,
          13.195613839143922,
          11.532728092266408,
          11.580584113444043,
          11.648330101976432,
          12.886641043883259,
          11.99535161421452,
          12.308177868467327,
          11.867097278690842,
          11.813030057420567,
          12.078239274020289,
          12.077670930725649,
          12.139398512262181,
          11.842229212112828,
          12.358793732547838,
          11.588960151246226,
          11.984178313616395,
          12.50539915757667,
          12.323855681186558,
          12.049418835484797,
          11.874090314181814,
          11.608235644774552,
          13.091904169919621,
          12.072541252905651,
          12.206072645530174,
          11.607326140391713,
          12.14950229404178,
          13.275827535915461,
          11.678439903447801,
          12.33569641332368,
          11.816726919301892,
          12.31716669303576,
          11.982616545377663,
          11.571194373094205,
          12.106252310247962,
          10.932981961904135,
          11.969717200243734,
          11.661345470088502,
          12.323411137947407,
          11.951180395901384,
          12.319401330837177,
          12.117241431823558,
          11.440354772135393,
          11.845819880243557,
          12.3570755190667,
          12.86099861326992,
          12.14950229404178,
          11.900905258737373,
          12.01974306733868,
          11.925035115797062,
          12.375815420117268,
          12.025749091398891,
          11.8490404949436,
          11.759785542901755,
          11.941455846009388,
          11.512925464970229,
          11.877568578558138,
          11.779128505744886,
          11.967180737247824,
          12.071969661006694,
          11.94405831982697,
          12.269047444691562,
          11.801856756822442,
          12.388394202324129,
          12.138863895836725,
          11.786762130599957,
          12.007621706806335,
          12.043553716032399,
          12.066810578196666,
          11.931635799828413,
          12.154516158615772,
          11.786762130599957,
          11.931635799828413,
          11.794337924408413,
          12.431533509799543,
          12.424806488355683,
          11.76756768334381,
          12.371587084007746,
          11.603679828238693,
          12.20856952572876,
          11.661345470088502,
          11.79810440720389,
          11.104957226643945,
          12.623061104072981,
          11.792449349720545,
          12.765688433465597,
          11.904967552746252,
          11.964001084330445,
          12.141534124392603,
          11.682668239557323,
          11.512925464970229,
          12.703509032177148,
          11.884489021402711,
          11.816726919301892,
          12.498742259492994,
          11.915051671812877,
          11.719126295554126,
          12.058152515453552,
          11.947949375319936,
          11.84939770159144,
          11.575900264131617,
          13.323926946863102,
          11.813030057420567,
          11.938193200374572,
          12.100712129872347,
          12.388394202324129,
          11.759785542901755,
          12.449018824140563,
          12.429216196844383,
          12.066810578196666,
          11.946654038351252,
          11.385092093460344,
          11.884489021402711,
          12.065274916913605,
          11.225243392518447,
          10.47194980911048,
          12.380025952653611,
          12.081076155355488,
          12.211060187041213,
          12.043494890772815,
          12.170445467887022,
          12.24288661865289,
          12.560244459250788,
          12.211060187041213,
          11.67419361256635,
          12.676076274775909,
          12.154779351142624,
          12.396693005138824,
          11.288531131754366,
          12.441144767709657,
          12.38755635142507,
          11.924372644755941,
          11.870599909242044,
          11.73526869611367,
          11.870599909242044,
          12.506177237980511,
          12.193493863323313,
          11.76756768334381,
          11.694413341015606,
          11.804848531679264,
          11.884489021402711,
          11.728036844587175,
          11.790557201568507,
          12.128111104060462,
          11.951180395901384,
          11.951180395901384,
          12.384218830913648,
          12.277928082630602,
          12.09458226949681,
          11.982929094215963,
          11.84939770159144,
          12.061046873479915,
          11.507912923146684,
          12.028738630247258,
          11.608235644774552,
          11.842229212112828,
          12.724866438945341,
          11.982272628789678,
          11.736069016284437,
          11.669929213779893,
          12.88712700173598,
          12.190959007720126,
          12.759957758756611,
          12.031719258385396,
          12.138863895836725,
          12.066235700342375,
          12.729320789294722,
          11.708492248514204,
          11.418614785498987,
          12.235631447771718,
          11.362102575235644,
          12.354492650648448,
          12.106252310247962,
          11.917723684090689,
          11.385092093460344,
          12.388394202324129,
          11.813030057420567,
          12.013700752882718,
          11.350406535472453,
          11.688558033613386,
          12.332705296463539,
          12.220961258023925,
          12.27134527214637,
          12.078239274020289,
          12.175613438045465,
          11.37366339763672,
          12.160028707028767,
          11.630708500626612,
          12.028738630247258,
          12.588190652108505,
          11.56171562913966,
          11.678439903447801,
          12.190959007720126,
          11.693161515273161,
          12.661913960963405,
          11.289781913656018,
          11.951180395901384,
          12.185869938212655,
          12.477167914377556,
          12.535376392672774,
          13.229567991666638,
          11.884489021402711,
          12.080991165908294,
          12.206777397134413,
          12.013700752882718,
          11.881034786534624,
          12.449018824140563,
          12.100712129872347,
          12.132695175725399,
          12.721885810807203,
          12.271392111650817,
          11.302204433654575,
          11.407564949312402,
          11.612770799939945,
          12.70076888736628,
          12.089538829274222,
          12.031123843065632,
          11.927680619985486,
          11.813030057420567,
          11.813030057420567,
          11.944707881395766,
          11.424094251263613,
          11.979799201207037,
          12.175613438045465,
          12.299107511497363,
          12.043553716032399,
          11.956970055045868,
          11.744037185933616,
          11.884489021402711,
          11.79810440720389,
          12.165250651009918,
          11.982929094215963,
          11.898187865760873,
          12.437184366493561,
          11.831379196088763,
          12.190959007720126,
          11.982929094215963,
          11.824079893607152,
          11.891361900690473,
          11.76756768334381,
          12.08069081199846,
          11.759785542901755,
          11.964001084330445,
          11.002099841204238,
          11.691071650353702,
          11.813030057420567,
          11.979799201207037,
          11.571194373094205,
          12.691580461311874,
          12.100156419938624,
          12.523525876315125,
          12.542544882151386,
          12.230765258120545,
          11.77452020265869,
          11.809319478024031,
          11.669929213779893,
          12.669806661762314,
          11.77528972943772,
          11.84939770159144,
          11.803353763090035,
          11.681824001432043,
          12.26857785088157,
          11.652687407345388,
          12.066810578196666,
          12.464583340681674,
          12.2783933071098,
          11.84939770159144,
          11.813030057420567,
          11.67419361256635,
          12.386308695833106,
          12.037653993905211,
          11.532728092266408,
          11.686878772093667,
          11.877568578558138,
          11.842229212112828,
          12.959538518762063,
          11.289781913656018,
          11.911701584927597,
          12.069680020624618,
          11.870599909242044,
          11.728036844587175,
          11.917723684090689,
          12.345834587905333,
          12.292250341771226,
          12.100156419938624,
          12.345834587905333,
          12.367885325692589,
          12.128111104060462,
          11.891361900690473,
          11.76756768334381,
          11.598726943661342,
          12.359523080243038,
          12.41044104151805,
          12.061046873479915,
          12.367340793126296,
          13.345506928718539,
          12.049418835484797,
          12.0015054797889,
          12.05466819137094,
          12.384218830913648,
          12.560244459250788,
          11.691071650353702,
          11.95053502640496,
          12.8802918162046,
          13.521139497361697,
          11.695247021764184,
          12.137258329529814,
          11.560762794384388,
          11.461632170582678,
          12.476099782743233,
          12.180754837545884,
          12.14950229404178,
          12.066810578196666,
          11.736069016284437,
          11.970350312009105,
          12.078239274020289,
          12.297785453453374,
          11.877568578558138,
          12.089538829274222,
          11.904967552746252,
          11.661776411702583,
          12.195517131590657,
          11.669929213779893,
          12.269047444691562,
          11.941455846009388,
          12.513189630620563,
          12.206072645530174,
          11.84939770159144,
          12.577636201962656,
          12.14950229404178,
          12.007621706806335,
          11.635143097694478,
          11.809319478024031,
          11.736069016284437,
          12.343466568968994,
          11.652687407345388,
          11.805595078933049,
          11.870599909242044,
          11.834284063781393,
          12.122691036591123,
          11.884489021402711,
          12.273731294003989,
          11.898187865760873,
          12.813917896253697,
          11.751942365440728,
          11.794337924408413,
          11.841415931849784,
          12.075394321888057,
          12.180754837545884,
          11.867097278690842,
          12.490875577231112,
          12.323411137947407,
          12.422505731952896,
          12.043553716032399,
          12.089538829274222,
          12.136186518066006,
          11.771436160121729,
          11.686878772093667,
          12.404923504275338,
          11.77528972943772,
          12.016122061571728,
          11.755871643580617,
          12.616525295149378,
          12.154779351142624,
          11.925035115797062,
          11.766792188927278,
          12.103486056755072,
          12.106252310247962,
          12.122147410592412,
          11.711776323715394,
          12.84397135185964,
          11.877568578558138,
          12.083905011555967,
          11.842229212112828,
          11.827736204810263,
          11.133128103610641,
          12.332705296463539,
          12.100712129872347,
          11.921718363171067,
          12.037653993905211,
          11.794337924408413,
          12.535376392672774,
          12.546109948315882,
          11.691071650353702,
          11.585246126549855,
          12.000891794590137,
          11.652687407345388,
          11.83862560460953,
          11.951180395901384,
          11.84939770159144,
          11.982929094215963,
          11.944707881395766,
          12.577636201962656,
          12.354492650648448,
          11.77528972943772,
          12.691580461311874,
          12.218495165528731,
          11.835008964139341,
          11.898187865760873,
          12.721885810807203,
          12.220961258023925,
          12.716402146247475,
          11.686878772093667,
          12.239990863733635,
          12.596400426884427,
          12.249610947544657,
          11.617285480294472,
          11.960811288962345,
          12.154779351142624,
          11.898187865760873,
          11.779128505744886,
          12.4529327234617,
          12.081076155355488,
          12.332705296463539,
          11.794337924408413,
          11.512925464970229,
          11.740061037553975,
          11.736069016284437,
          12.031123843065632,
          11.813030057420567,
          12.206072645530174,
          11.763684183317412,
          11.719939634354555,
          11.951180395901384,
          12.083905011555967,
          11.956553034172742,
          11.594505451962652,
          12.554836882168736,
          12.206072645530174,
          12.049418835484797,
          11.812289042195847,
          12.92391243868049,
          12.043553716032399,
          12.66032791780777,
          12.14950229404178,
          12.468436909997665,
          11.963567869487337,
          11.87862357740665,
          12.170445467887022,
          11.751942365440728,
          12.354492650648448,
          11.56171562913966,
          12.016726473799254,
          12.521977676925694,
          12.429216196844383,
          12.384218830913648,
          11.418614785498987,
          11.669929213779893,
          11.326595886778735,
          10.976782033219948,
          11.964001084330445,
          11.56171562913966,
          11.740061037553975,
          12.429216196844383,
          11.820410164718188,
          12.841325847671216,
          11.782952602183288,
          12.367340793126296,
          11.728036844587175,
          11.719939634354555,
          12.0015054797889,
          12.415433652431746,
          12.54686766829102,
          11.831379196088763,
          11.835008964139341,
          11.83101549359339,
          11.695247021764184,
          12.170445467887022,
          12.174989532116426,
          12.552926520261092,
          11.56171562913966,
          12.524526376648708,
          11.79810440720389,
          11.740061037553975,
          12.2783933071098,
          12.345834587905333,
          11.84939770159144,
          12.456831363877356,
          12.240474072247506,
          12.077670930725649,
          11.715866308966918,
          11.728036844587175,
          12.100156419938624,
          11.755871643580617,
          11.824079893607152,
          11.863582336583399,
          12.509874099861838,
          11.84939770159144,
          11.686878772093667,
          12.16597955196373,
          11.074420502783864,
          12.136186518066006,
          11.982929094215963,
          12.066810578196666,
          11.699405031912846,
          12.885670953244288,
          11.91638857040772,
          12.190959007720126,
          12.160028707028767,
          12.644327576461329,
          12.098487434850236,
          11.76756768334381,
          12.388394202324129,
          11.626254150277232,
          12.567551034433226,
          11.884489021402711,
          12.128111104060462,
          12.072541252905651,
          12.254862809699606,
          12.493129522588037,
          11.864462231052837,
          11.901583454762012
         ],
         "xaxis": "x",
         "yaxis": "y"
        }
       ],
       "layout": {
        "barmode": "relative",
        "legend": {
         "tracegroupgap": 0
        },
        "template": {
         "data": {
          "bar": [
           {
            "error_x": {
             "color": "#2a3f5f"
            },
            "error_y": {
             "color": "#2a3f5f"
            },
            "marker": {
             "line": {
              "color": "#E5ECF6",
              "width": 0.5
             },
             "pattern": {
              "fillmode": "overlay",
              "size": 10,
              "solidity": 0.2
             }
            },
            "type": "bar"
           }
          ],
          "barpolar": [
           {
            "marker": {
             "line": {
              "color": "#E5ECF6",
              "width": 0.5
             },
             "pattern": {
              "fillmode": "overlay",
              "size": 10,
              "solidity": 0.2
             }
            },
            "type": "barpolar"
           }
          ],
          "carpet": [
           {
            "aaxis": {
             "endlinecolor": "#2a3f5f",
             "gridcolor": "white",
             "linecolor": "white",
             "minorgridcolor": "white",
             "startlinecolor": "#2a3f5f"
            },
            "baxis": {
             "endlinecolor": "#2a3f5f",
             "gridcolor": "white",
             "linecolor": "white",
             "minorgridcolor": "white",
             "startlinecolor": "#2a3f5f"
            },
            "type": "carpet"
           }
          ],
          "choropleth": [
           {
            "colorbar": {
             "outlinewidth": 0,
             "ticks": ""
            },
            "type": "choropleth"
           }
          ],
          "contour": [
           {
            "colorbar": {
             "outlinewidth": 0,
             "ticks": ""
            },
            "colorscale": [
             [
              0,
              "#0d0887"
             ],
             [
              0.1111111111111111,
              "#46039f"
             ],
             [
              0.2222222222222222,
              "#7201a8"
             ],
             [
              0.3333333333333333,
              "#9c179e"
             ],
             [
              0.4444444444444444,
              "#bd3786"
             ],
             [
              0.5555555555555556,
              "#d8576b"
             ],
             [
              0.6666666666666666,
              "#ed7953"
             ],
             [
              0.7777777777777778,
              "#fb9f3a"
             ],
             [
              0.8888888888888888,
              "#fdca26"
             ],
             [
              1,
              "#f0f921"
             ]
            ],
            "type": "contour"
           }
          ],
          "contourcarpet": [
           {
            "colorbar": {
             "outlinewidth": 0,
             "ticks": ""
            },
            "type": "contourcarpet"
           }
          ],
          "heatmap": [
           {
            "colorbar": {
             "outlinewidth": 0,
             "ticks": ""
            },
            "colorscale": [
             [
              0,
              "#0d0887"
             ],
             [
              0.1111111111111111,
              "#46039f"
             ],
             [
              0.2222222222222222,
              "#7201a8"
             ],
             [
              0.3333333333333333,
              "#9c179e"
             ],
             [
              0.4444444444444444,
              "#bd3786"
             ],
             [
              0.5555555555555556,
              "#d8576b"
             ],
             [
              0.6666666666666666,
              "#ed7953"
             ],
             [
              0.7777777777777778,
              "#fb9f3a"
             ],
             [
              0.8888888888888888,
              "#fdca26"
             ],
             [
              1,
              "#f0f921"
             ]
            ],
            "type": "heatmap"
           }
          ],
          "heatmapgl": [
           {
            "colorbar": {
             "outlinewidth": 0,
             "ticks": ""
            },
            "colorscale": [
             [
              0,
              "#0d0887"
             ],
             [
              0.1111111111111111,
              "#46039f"
             ],
             [
              0.2222222222222222,
              "#7201a8"
             ],
             [
              0.3333333333333333,
              "#9c179e"
             ],
             [
              0.4444444444444444,
              "#bd3786"
             ],
             [
              0.5555555555555556,
              "#d8576b"
             ],
             [
              0.6666666666666666,
              "#ed7953"
             ],
             [
              0.7777777777777778,
              "#fb9f3a"
             ],
             [
              0.8888888888888888,
              "#fdca26"
             ],
             [
              1,
              "#f0f921"
             ]
            ],
            "type": "heatmapgl"
           }
          ],
          "histogram": [
           {
            "marker": {
             "pattern": {
              "fillmode": "overlay",
              "size": 10,
              "solidity": 0.2
             }
            },
            "type": "histogram"
           }
          ],
          "histogram2d": [
           {
            "colorbar": {
             "outlinewidth": 0,
             "ticks": ""
            },
            "colorscale": [
             [
              0,
              "#0d0887"
             ],
             [
              0.1111111111111111,
              "#46039f"
             ],
             [
              0.2222222222222222,
              "#7201a8"
             ],
             [
              0.3333333333333333,
              "#9c179e"
             ],
             [
              0.4444444444444444,
              "#bd3786"
             ],
             [
              0.5555555555555556,
              "#d8576b"
             ],
             [
              0.6666666666666666,
              "#ed7953"
             ],
             [
              0.7777777777777778,
              "#fb9f3a"
             ],
             [
              0.8888888888888888,
              "#fdca26"
             ],
             [
              1,
              "#f0f921"
             ]
            ],
            "type": "histogram2d"
           }
          ],
          "histogram2dcontour": [
           {
            "colorbar": {
             "outlinewidth": 0,
             "ticks": ""
            },
            "colorscale": [
             [
              0,
              "#0d0887"
             ],
             [
              0.1111111111111111,
              "#46039f"
             ],
             [
              0.2222222222222222,
              "#7201a8"
             ],
             [
              0.3333333333333333,
              "#9c179e"
             ],
             [
              0.4444444444444444,
              "#bd3786"
             ],
             [
              0.5555555555555556,
              "#d8576b"
             ],
             [
              0.6666666666666666,
              "#ed7953"
             ],
             [
              0.7777777777777778,
              "#fb9f3a"
             ],
             [
              0.8888888888888888,
              "#fdca26"
             ],
             [
              1,
              "#f0f921"
             ]
            ],
            "type": "histogram2dcontour"
           }
          ],
          "mesh3d": [
           {
            "colorbar": {
             "outlinewidth": 0,
             "ticks": ""
            },
            "type": "mesh3d"
           }
          ],
          "parcoords": [
           {
            "line": {
             "colorbar": {
              "outlinewidth": 0,
              "ticks": ""
             }
            },
            "type": "parcoords"
           }
          ],
          "pie": [
           {
            "automargin": true,
            "type": "pie"
           }
          ],
          "scatter": [
           {
            "fillpattern": {
             "fillmode": "overlay",
             "size": 10,
             "solidity": 0.2
            },
            "type": "scatter"
           }
          ],
          "scatter3d": [
           {
            "line": {
             "colorbar": {
              "outlinewidth": 0,
              "ticks": ""
             }
            },
            "marker": {
             "colorbar": {
              "outlinewidth": 0,
              "ticks": ""
             }
            },
            "type": "scatter3d"
           }
          ],
          "scattercarpet": [
           {
            "marker": {
             "colorbar": {
              "outlinewidth": 0,
              "ticks": ""
             }
            },
            "type": "scattercarpet"
           }
          ],
          "scattergeo": [
           {
            "marker": {
             "colorbar": {
              "outlinewidth": 0,
              "ticks": ""
             }
            },
            "type": "scattergeo"
           }
          ],
          "scattergl": [
           {
            "marker": {
             "colorbar": {
              "outlinewidth": 0,
              "ticks": ""
             }
            },
            "type": "scattergl"
           }
          ],
          "scattermapbox": [
           {
            "marker": {
             "colorbar": {
              "outlinewidth": 0,
              "ticks": ""
             }
            },
            "type": "scattermapbox"
           }
          ],
          "scatterpolar": [
           {
            "marker": {
             "colorbar": {
              "outlinewidth": 0,
              "ticks": ""
             }
            },
            "type": "scatterpolar"
           }
          ],
          "scatterpolargl": [
           {
            "marker": {
             "colorbar": {
              "outlinewidth": 0,
              "ticks": ""
             }
            },
            "type": "scatterpolargl"
           }
          ],
          "scatterternary": [
           {
            "marker": {
             "colorbar": {
              "outlinewidth": 0,
              "ticks": ""
             }
            },
            "type": "scatterternary"
           }
          ],
          "surface": [
           {
            "colorbar": {
             "outlinewidth": 0,
             "ticks": ""
            },
            "colorscale": [
             [
              0,
              "#0d0887"
             ],
             [
              0.1111111111111111,
              "#46039f"
             ],
             [
              0.2222222222222222,
              "#7201a8"
             ],
             [
              0.3333333333333333,
              "#9c179e"
             ],
             [
              0.4444444444444444,
              "#bd3786"
             ],
             [
              0.5555555555555556,
              "#d8576b"
             ],
             [
              0.6666666666666666,
              "#ed7953"
             ],
             [
              0.7777777777777778,
              "#fb9f3a"
             ],
             [
              0.8888888888888888,
              "#fdca26"
             ],
             [
              1,
              "#f0f921"
             ]
            ],
            "type": "surface"
           }
          ],
          "table": [
           {
            "cells": {
             "fill": {
              "color": "#EBF0F8"
             },
             "line": {
              "color": "white"
             }
            },
            "header": {
             "fill": {
              "color": "#C8D4E3"
             },
             "line": {
              "color": "white"
             }
            },
            "type": "table"
           }
          ]
         },
         "layout": {
          "annotationdefaults": {
           "arrowcolor": "#2a3f5f",
           "arrowhead": 0,
           "arrowwidth": 1
          },
          "autotypenumbers": "strict",
          "coloraxis": {
           "colorbar": {
            "outlinewidth": 0,
            "ticks": ""
           }
          },
          "colorscale": {
           "diverging": [
            [
             0,
             "#8e0152"
            ],
            [
             0.1,
             "#c51b7d"
            ],
            [
             0.2,
             "#de77ae"
            ],
            [
             0.3,
             "#f1b6da"
            ],
            [
             0.4,
             "#fde0ef"
            ],
            [
             0.5,
             "#f7f7f7"
            ],
            [
             0.6,
             "#e6f5d0"
            ],
            [
             0.7,
             "#b8e186"
            ],
            [
             0.8,
             "#7fbc41"
            ],
            [
             0.9,
             "#4d9221"
            ],
            [
             1,
             "#276419"
            ]
           ],
           "sequential": [
            [
             0,
             "#0d0887"
            ],
            [
             0.1111111111111111,
             "#46039f"
            ],
            [
             0.2222222222222222,
             "#7201a8"
            ],
            [
             0.3333333333333333,
             "#9c179e"
            ],
            [
             0.4444444444444444,
             "#bd3786"
            ],
            [
             0.5555555555555556,
             "#d8576b"
            ],
            [
             0.6666666666666666,
             "#ed7953"
            ],
            [
             0.7777777777777778,
             "#fb9f3a"
            ],
            [
             0.8888888888888888,
             "#fdca26"
            ],
            [
             1,
             "#f0f921"
            ]
           ],
           "sequentialminus": [
            [
             0,
             "#0d0887"
            ],
            [
             0.1111111111111111,
             "#46039f"
            ],
            [
             0.2222222222222222,
             "#7201a8"
            ],
            [
             0.3333333333333333,
             "#9c179e"
            ],
            [
             0.4444444444444444,
             "#bd3786"
            ],
            [
             0.5555555555555556,
             "#d8576b"
            ],
            [
             0.6666666666666666,
             "#ed7953"
            ],
            [
             0.7777777777777778,
             "#fb9f3a"
            ],
            [
             0.8888888888888888,
             "#fdca26"
            ],
            [
             1,
             "#f0f921"
            ]
           ]
          },
          "colorway": [
           "#636efa",
           "#EF553B",
           "#00cc96",
           "#ab63fa",
           "#FFA15A",
           "#19d3f3",
           "#FF6692",
           "#B6E880",
           "#FF97FF",
           "#FECB52"
          ],
          "font": {
           "color": "#2a3f5f"
          },
          "geo": {
           "bgcolor": "white",
           "lakecolor": "white",
           "landcolor": "#E5ECF6",
           "showlakes": true,
           "showland": true,
           "subunitcolor": "white"
          },
          "hoverlabel": {
           "align": "left"
          },
          "hovermode": "closest",
          "mapbox": {
           "style": "light"
          },
          "paper_bgcolor": "white",
          "plot_bgcolor": "#E5ECF6",
          "polar": {
           "angularaxis": {
            "gridcolor": "white",
            "linecolor": "white",
            "ticks": ""
           },
           "bgcolor": "#E5ECF6",
           "radialaxis": {
            "gridcolor": "white",
            "linecolor": "white",
            "ticks": ""
           }
          },
          "scene": {
           "xaxis": {
            "backgroundcolor": "#E5ECF6",
            "gridcolor": "white",
            "gridwidth": 2,
            "linecolor": "white",
            "showbackground": true,
            "ticks": "",
            "zerolinecolor": "white"
           },
           "yaxis": {
            "backgroundcolor": "#E5ECF6",
            "gridcolor": "white",
            "gridwidth": 2,
            "linecolor": "white",
            "showbackground": true,
            "ticks": "",
            "zerolinecolor": "white"
           },
           "zaxis": {
            "backgroundcolor": "#E5ECF6",
            "gridcolor": "white",
            "gridwidth": 2,
            "linecolor": "white",
            "showbackground": true,
            "ticks": "",
            "zerolinecolor": "white"
           }
          },
          "shapedefaults": {
           "line": {
            "color": "#2a3f5f"
           }
          },
          "ternary": {
           "aaxis": {
            "gridcolor": "white",
            "linecolor": "white",
            "ticks": ""
           },
           "baxis": {
            "gridcolor": "white",
            "linecolor": "white",
            "ticks": ""
           },
           "bgcolor": "#E5ECF6",
           "caxis": {
            "gridcolor": "white",
            "linecolor": "white",
            "ticks": ""
           }
          },
          "title": {
           "x": 0.05
          },
          "xaxis": {
           "automargin": true,
           "gridcolor": "white",
           "linecolor": "white",
           "ticks": "",
           "title": {
            "standoff": 15
           },
           "zerolinecolor": "white",
           "zerolinewidth": 2
          },
          "yaxis": {
           "automargin": true,
           "gridcolor": "white",
           "linecolor": "white",
           "ticks": "",
           "title": {
            "standoff": 15
           },
           "zerolinecolor": "white",
           "zerolinewidth": 2
          }
         }
        },
        "title": {
         "text": "SalePrice Log Distribution"
        },
        "xaxis": {
         "anchor": "y",
         "domain": [
          0,
          1
         ],
         "title": {
          "text": "log_sale_price"
         }
        },
        "yaxis": {
         "anchor": "x",
         "domain": [
          0,
          1
         ],
         "title": {
          "text": "count"
         }
        }
       }
      }
     },
     "metadata": {},
     "output_type": "display_data"
    }
   ],
   "source": [
    "fig = px.histogram(df[\"log_sale_price\"], x = \"log_sale_price\", title = \"SalePrice Log Distribution\")\n",
    "fig.show()"
   ]
  },
  {
   "cell_type": "code",
   "execution_count": 27,
   "metadata": {},
   "outputs": [],
   "source": [
    "y = df[\"log_sale_price\"]\n",
    "\n",
    "df_num = df.select_dtypes(include=[\"int64\", \"float64\"])\n",
    "\n",
    "X = df_num.drop([\"log_sale_price\"], axis = 1)"
   ]
  },
  {
   "cell_type": "code",
   "execution_count": 28,
   "metadata": {},
   "outputs": [],
   "source": [
    "X_train, X_test, y_train, y_test = train_test_split(X, y, test_size= .25, random_state= 3)"
   ]
  },
  {
   "cell_type": "code",
   "execution_count": 30,
   "metadata": {},
   "outputs": [
    {
     "data": {
      "text/html": [
       "<style>#sk-container-id-1 {\n",
       "  /* Definition of color scheme common for light and dark mode */\n",
       "  --sklearn-color-text: black;\n",
       "  --sklearn-color-line: gray;\n",
       "  /* Definition of color scheme for unfitted estimators */\n",
       "  --sklearn-color-unfitted-level-0: #fff5e6;\n",
       "  --sklearn-color-unfitted-level-1: #f6e4d2;\n",
       "  --sklearn-color-unfitted-level-2: #ffe0b3;\n",
       "  --sklearn-color-unfitted-level-3: chocolate;\n",
       "  /* Definition of color scheme for fitted estimators */\n",
       "  --sklearn-color-fitted-level-0: #f0f8ff;\n",
       "  --sklearn-color-fitted-level-1: #d4ebff;\n",
       "  --sklearn-color-fitted-level-2: #b3dbfd;\n",
       "  --sklearn-color-fitted-level-3: cornflowerblue;\n",
       "\n",
       "  /* Specific color for light theme */\n",
       "  --sklearn-color-text-on-default-background: var(--sg-text-color, var(--theme-code-foreground, var(--jp-content-font-color1, black)));\n",
       "  --sklearn-color-background: var(--sg-background-color, var(--theme-background, var(--jp-layout-color0, white)));\n",
       "  --sklearn-color-border-box: var(--sg-text-color, var(--theme-code-foreground, var(--jp-content-font-color1, black)));\n",
       "  --sklearn-color-icon: #696969;\n",
       "\n",
       "  @media (prefers-color-scheme: dark) {\n",
       "    /* Redefinition of color scheme for dark theme */\n",
       "    --sklearn-color-text-on-default-background: var(--sg-text-color, var(--theme-code-foreground, var(--jp-content-font-color1, white)));\n",
       "    --sklearn-color-background: var(--sg-background-color, var(--theme-background, var(--jp-layout-color0, #111)));\n",
       "    --sklearn-color-border-box: var(--sg-text-color, var(--theme-code-foreground, var(--jp-content-font-color1, white)));\n",
       "    --sklearn-color-icon: #878787;\n",
       "  }\n",
       "}\n",
       "\n",
       "#sk-container-id-1 {\n",
       "  color: var(--sklearn-color-text);\n",
       "}\n",
       "\n",
       "#sk-container-id-1 pre {\n",
       "  padding: 0;\n",
       "}\n",
       "\n",
       "#sk-container-id-1 input.sk-hidden--visually {\n",
       "  border: 0;\n",
       "  clip: rect(1px 1px 1px 1px);\n",
       "  clip: rect(1px, 1px, 1px, 1px);\n",
       "  height: 1px;\n",
       "  margin: -1px;\n",
       "  overflow: hidden;\n",
       "  padding: 0;\n",
       "  position: absolute;\n",
       "  width: 1px;\n",
       "}\n",
       "\n",
       "#sk-container-id-1 div.sk-dashed-wrapped {\n",
       "  border: 1px dashed var(--sklearn-color-line);\n",
       "  margin: 0 0.4em 0.5em 0.4em;\n",
       "  box-sizing: border-box;\n",
       "  padding-bottom: 0.4em;\n",
       "  background-color: var(--sklearn-color-background);\n",
       "}\n",
       "\n",
       "#sk-container-id-1 div.sk-container {\n",
       "  /* jupyter's `normalize.less` sets `[hidden] { display: none; }`\n",
       "     but bootstrap.min.css set `[hidden] { display: none !important; }`\n",
       "     so we also need the `!important` here to be able to override the\n",
       "     default hidden behavior on the sphinx rendered scikit-learn.org.\n",
       "     See: https://github.com/scikit-learn/scikit-learn/issues/21755 */\n",
       "  display: inline-block !important;\n",
       "  position: relative;\n",
       "}\n",
       "\n",
       "#sk-container-id-1 div.sk-text-repr-fallback {\n",
       "  display: none;\n",
       "}\n",
       "\n",
       "div.sk-parallel-item,\n",
       "div.sk-serial,\n",
       "div.sk-item {\n",
       "  /* draw centered vertical line to link estimators */\n",
       "  background-image: linear-gradient(var(--sklearn-color-text-on-default-background), var(--sklearn-color-text-on-default-background));\n",
       "  background-size: 2px 100%;\n",
       "  background-repeat: no-repeat;\n",
       "  background-position: center center;\n",
       "}\n",
       "\n",
       "/* Parallel-specific style estimator block */\n",
       "\n",
       "#sk-container-id-1 div.sk-parallel-item::after {\n",
       "  content: \"\";\n",
       "  width: 100%;\n",
       "  border-bottom: 2px solid var(--sklearn-color-text-on-default-background);\n",
       "  flex-grow: 1;\n",
       "}\n",
       "\n",
       "#sk-container-id-1 div.sk-parallel {\n",
       "  display: flex;\n",
       "  align-items: stretch;\n",
       "  justify-content: center;\n",
       "  background-color: var(--sklearn-color-background);\n",
       "  position: relative;\n",
       "}\n",
       "\n",
       "#sk-container-id-1 div.sk-parallel-item {\n",
       "  display: flex;\n",
       "  flex-direction: column;\n",
       "}\n",
       "\n",
       "#sk-container-id-1 div.sk-parallel-item:first-child::after {\n",
       "  align-self: flex-end;\n",
       "  width: 50%;\n",
       "}\n",
       "\n",
       "#sk-container-id-1 div.sk-parallel-item:last-child::after {\n",
       "  align-self: flex-start;\n",
       "  width: 50%;\n",
       "}\n",
       "\n",
       "#sk-container-id-1 div.sk-parallel-item:only-child::after {\n",
       "  width: 0;\n",
       "}\n",
       "\n",
       "/* Serial-specific style estimator block */\n",
       "\n",
       "#sk-container-id-1 div.sk-serial {\n",
       "  display: flex;\n",
       "  flex-direction: column;\n",
       "  align-items: center;\n",
       "  background-color: var(--sklearn-color-background);\n",
       "  padding-right: 1em;\n",
       "  padding-left: 1em;\n",
       "}\n",
       "\n",
       "\n",
       "/* Toggleable style: style used for estimator/Pipeline/ColumnTransformer box that is\n",
       "clickable and can be expanded/collapsed.\n",
       "- Pipeline and ColumnTransformer use this feature and define the default style\n",
       "- Estimators will overwrite some part of the style using the `sk-estimator` class\n",
       "*/\n",
       "\n",
       "/* Pipeline and ColumnTransformer style (default) */\n",
       "\n",
       "#sk-container-id-1 div.sk-toggleable {\n",
       "  /* Default theme specific background. It is overwritten whether we have a\n",
       "  specific estimator or a Pipeline/ColumnTransformer */\n",
       "  background-color: var(--sklearn-color-background);\n",
       "}\n",
       "\n",
       "/* Toggleable label */\n",
       "#sk-container-id-1 label.sk-toggleable__label {\n",
       "  cursor: pointer;\n",
       "  display: block;\n",
       "  width: 100%;\n",
       "  margin-bottom: 0;\n",
       "  padding: 0.5em;\n",
       "  box-sizing: border-box;\n",
       "  text-align: center;\n",
       "}\n",
       "\n",
       "#sk-container-id-1 label.sk-toggleable__label-arrow:before {\n",
       "  /* Arrow on the left of the label */\n",
       "  content: \"▸\";\n",
       "  float: left;\n",
       "  margin-right: 0.25em;\n",
       "  color: var(--sklearn-color-icon);\n",
       "}\n",
       "\n",
       "#sk-container-id-1 label.sk-toggleable__label-arrow:hover:before {\n",
       "  color: var(--sklearn-color-text);\n",
       "}\n",
       "\n",
       "/* Toggleable content - dropdown */\n",
       "\n",
       "#sk-container-id-1 div.sk-toggleable__content {\n",
       "  max-height: 0;\n",
       "  max-width: 0;\n",
       "  overflow: hidden;\n",
       "  text-align: left;\n",
       "  /* unfitted */\n",
       "  background-color: var(--sklearn-color-unfitted-level-0);\n",
       "}\n",
       "\n",
       "#sk-container-id-1 div.sk-toggleable__content.fitted {\n",
       "  /* fitted */\n",
       "  background-color: var(--sklearn-color-fitted-level-0);\n",
       "}\n",
       "\n",
       "#sk-container-id-1 div.sk-toggleable__content pre {\n",
       "  margin: 0.2em;\n",
       "  border-radius: 0.25em;\n",
       "  color: var(--sklearn-color-text);\n",
       "  /* unfitted */\n",
       "  background-color: var(--sklearn-color-unfitted-level-0);\n",
       "}\n",
       "\n",
       "#sk-container-id-1 div.sk-toggleable__content.fitted pre {\n",
       "  /* unfitted */\n",
       "  background-color: var(--sklearn-color-fitted-level-0);\n",
       "}\n",
       "\n",
       "#sk-container-id-1 input.sk-toggleable__control:checked~div.sk-toggleable__content {\n",
       "  /* Expand drop-down */\n",
       "  max-height: 200px;\n",
       "  max-width: 100%;\n",
       "  overflow: auto;\n",
       "}\n",
       "\n",
       "#sk-container-id-1 input.sk-toggleable__control:checked~label.sk-toggleable__label-arrow:before {\n",
       "  content: \"▾\";\n",
       "}\n",
       "\n",
       "/* Pipeline/ColumnTransformer-specific style */\n",
       "\n",
       "#sk-container-id-1 div.sk-label input.sk-toggleable__control:checked~label.sk-toggleable__label {\n",
       "  color: var(--sklearn-color-text);\n",
       "  background-color: var(--sklearn-color-unfitted-level-2);\n",
       "}\n",
       "\n",
       "#sk-container-id-1 div.sk-label.fitted input.sk-toggleable__control:checked~label.sk-toggleable__label {\n",
       "  background-color: var(--sklearn-color-fitted-level-2);\n",
       "}\n",
       "\n",
       "/* Estimator-specific style */\n",
       "\n",
       "/* Colorize estimator box */\n",
       "#sk-container-id-1 div.sk-estimator input.sk-toggleable__control:checked~label.sk-toggleable__label {\n",
       "  /* unfitted */\n",
       "  background-color: var(--sklearn-color-unfitted-level-2);\n",
       "}\n",
       "\n",
       "#sk-container-id-1 div.sk-estimator.fitted input.sk-toggleable__control:checked~label.sk-toggleable__label {\n",
       "  /* fitted */\n",
       "  background-color: var(--sklearn-color-fitted-level-2);\n",
       "}\n",
       "\n",
       "#sk-container-id-1 div.sk-label label.sk-toggleable__label,\n",
       "#sk-container-id-1 div.sk-label label {\n",
       "  /* The background is the default theme color */\n",
       "  color: var(--sklearn-color-text-on-default-background);\n",
       "}\n",
       "\n",
       "/* On hover, darken the color of the background */\n",
       "#sk-container-id-1 div.sk-label:hover label.sk-toggleable__label {\n",
       "  color: var(--sklearn-color-text);\n",
       "  background-color: var(--sklearn-color-unfitted-level-2);\n",
       "}\n",
       "\n",
       "/* Label box, darken color on hover, fitted */\n",
       "#sk-container-id-1 div.sk-label.fitted:hover label.sk-toggleable__label.fitted {\n",
       "  color: var(--sklearn-color-text);\n",
       "  background-color: var(--sklearn-color-fitted-level-2);\n",
       "}\n",
       "\n",
       "/* Estimator label */\n",
       "\n",
       "#sk-container-id-1 div.sk-label label {\n",
       "  font-family: monospace;\n",
       "  font-weight: bold;\n",
       "  display: inline-block;\n",
       "  line-height: 1.2em;\n",
       "}\n",
       "\n",
       "#sk-container-id-1 div.sk-label-container {\n",
       "  text-align: center;\n",
       "}\n",
       "\n",
       "/* Estimator-specific */\n",
       "#sk-container-id-1 div.sk-estimator {\n",
       "  font-family: monospace;\n",
       "  border: 1px dotted var(--sklearn-color-border-box);\n",
       "  border-radius: 0.25em;\n",
       "  box-sizing: border-box;\n",
       "  margin-bottom: 0.5em;\n",
       "  /* unfitted */\n",
       "  background-color: var(--sklearn-color-unfitted-level-0);\n",
       "}\n",
       "\n",
       "#sk-container-id-1 div.sk-estimator.fitted {\n",
       "  /* fitted */\n",
       "  background-color: var(--sklearn-color-fitted-level-0);\n",
       "}\n",
       "\n",
       "/* on hover */\n",
       "#sk-container-id-1 div.sk-estimator:hover {\n",
       "  /* unfitted */\n",
       "  background-color: var(--sklearn-color-unfitted-level-2);\n",
       "}\n",
       "\n",
       "#sk-container-id-1 div.sk-estimator.fitted:hover {\n",
       "  /* fitted */\n",
       "  background-color: var(--sklearn-color-fitted-level-2);\n",
       "}\n",
       "\n",
       "/* Specification for estimator info (e.g. \"i\" and \"?\") */\n",
       "\n",
       "/* Common style for \"i\" and \"?\" */\n",
       "\n",
       ".sk-estimator-doc-link,\n",
       "a:link.sk-estimator-doc-link,\n",
       "a:visited.sk-estimator-doc-link {\n",
       "  float: right;\n",
       "  font-size: smaller;\n",
       "  line-height: 1em;\n",
       "  font-family: monospace;\n",
       "  background-color: var(--sklearn-color-background);\n",
       "  border-radius: 1em;\n",
       "  height: 1em;\n",
       "  width: 1em;\n",
       "  text-decoration: none !important;\n",
       "  margin-left: 1ex;\n",
       "  /* unfitted */\n",
       "  border: var(--sklearn-color-unfitted-level-1) 1pt solid;\n",
       "  color: var(--sklearn-color-unfitted-level-1);\n",
       "}\n",
       "\n",
       ".sk-estimator-doc-link.fitted,\n",
       "a:link.sk-estimator-doc-link.fitted,\n",
       "a:visited.sk-estimator-doc-link.fitted {\n",
       "  /* fitted */\n",
       "  border: var(--sklearn-color-fitted-level-1) 1pt solid;\n",
       "  color: var(--sklearn-color-fitted-level-1);\n",
       "}\n",
       "\n",
       "/* On hover */\n",
       "div.sk-estimator:hover .sk-estimator-doc-link:hover,\n",
       ".sk-estimator-doc-link:hover,\n",
       "div.sk-label-container:hover .sk-estimator-doc-link:hover,\n",
       ".sk-estimator-doc-link:hover {\n",
       "  /* unfitted */\n",
       "  background-color: var(--sklearn-color-unfitted-level-3);\n",
       "  color: var(--sklearn-color-background);\n",
       "  text-decoration: none;\n",
       "}\n",
       "\n",
       "div.sk-estimator.fitted:hover .sk-estimator-doc-link.fitted:hover,\n",
       ".sk-estimator-doc-link.fitted:hover,\n",
       "div.sk-label-container:hover .sk-estimator-doc-link.fitted:hover,\n",
       ".sk-estimator-doc-link.fitted:hover {\n",
       "  /* fitted */\n",
       "  background-color: var(--sklearn-color-fitted-level-3);\n",
       "  color: var(--sklearn-color-background);\n",
       "  text-decoration: none;\n",
       "}\n",
       "\n",
       "/* Span, style for the box shown on hovering the info icon */\n",
       ".sk-estimator-doc-link span {\n",
       "  display: none;\n",
       "  z-index: 9999;\n",
       "  position: relative;\n",
       "  font-weight: normal;\n",
       "  right: .2ex;\n",
       "  padding: .5ex;\n",
       "  margin: .5ex;\n",
       "  width: min-content;\n",
       "  min-width: 20ex;\n",
       "  max-width: 50ex;\n",
       "  color: var(--sklearn-color-text);\n",
       "  box-shadow: 2pt 2pt 4pt #999;\n",
       "  /* unfitted */\n",
       "  background: var(--sklearn-color-unfitted-level-0);\n",
       "  border: .5pt solid var(--sklearn-color-unfitted-level-3);\n",
       "}\n",
       "\n",
       ".sk-estimator-doc-link.fitted span {\n",
       "  /* fitted */\n",
       "  background: var(--sklearn-color-fitted-level-0);\n",
       "  border: var(--sklearn-color-fitted-level-3);\n",
       "}\n",
       "\n",
       ".sk-estimator-doc-link:hover span {\n",
       "  display: block;\n",
       "}\n",
       "\n",
       "/* \"?\"-specific style due to the `<a>` HTML tag */\n",
       "\n",
       "#sk-container-id-1 a.estimator_doc_link {\n",
       "  float: right;\n",
       "  font-size: 1rem;\n",
       "  line-height: 1em;\n",
       "  font-family: monospace;\n",
       "  background-color: var(--sklearn-color-background);\n",
       "  border-radius: 1rem;\n",
       "  height: 1rem;\n",
       "  width: 1rem;\n",
       "  text-decoration: none;\n",
       "  /* unfitted */\n",
       "  color: var(--sklearn-color-unfitted-level-1);\n",
       "  border: var(--sklearn-color-unfitted-level-1) 1pt solid;\n",
       "}\n",
       "\n",
       "#sk-container-id-1 a.estimator_doc_link.fitted {\n",
       "  /* fitted */\n",
       "  border: var(--sklearn-color-fitted-level-1) 1pt solid;\n",
       "  color: var(--sklearn-color-fitted-level-1);\n",
       "}\n",
       "\n",
       "/* On hover */\n",
       "#sk-container-id-1 a.estimator_doc_link:hover {\n",
       "  /* unfitted */\n",
       "  background-color: var(--sklearn-color-unfitted-level-3);\n",
       "  color: var(--sklearn-color-background);\n",
       "  text-decoration: none;\n",
       "}\n",
       "\n",
       "#sk-container-id-1 a.estimator_doc_link.fitted:hover {\n",
       "  /* fitted */\n",
       "  background-color: var(--sklearn-color-fitted-level-3);\n",
       "}\n",
       "</style><div id=\"sk-container-id-1\" class=\"sk-top-container\"><div class=\"sk-text-repr-fallback\"><pre>LinearRegression()</pre><b>In a Jupyter environment, please rerun this cell to show the HTML representation or trust the notebook. <br />On GitHub, the HTML representation is unable to render, please try loading this page with nbviewer.org.</b></div><div class=\"sk-container\" hidden><div class=\"sk-item\"><div class=\"sk-estimator fitted sk-toggleable\"><input class=\"sk-toggleable__control sk-hidden--visually\" id=\"sk-estimator-id-1\" type=\"checkbox\" checked><label for=\"sk-estimator-id-1\" class=\"sk-toggleable__label fitted sk-toggleable__label-arrow fitted\">&nbsp;&nbsp;LinearRegression<a class=\"sk-estimator-doc-link fitted\" rel=\"noreferrer\" target=\"_blank\" href=\"https://scikit-learn.org/1.4/modules/generated/sklearn.linear_model.LinearRegression.html\">?<span>Documentation for LinearRegression</span></a><span class=\"sk-estimator-doc-link fitted\">i<span>Fitted</span></span></label><div class=\"sk-toggleable__content fitted\"><pre>LinearRegression()</pre></div> </div></div></div></div>"
      ],
      "text/plain": [
       "LinearRegression()"
      ]
     },
     "execution_count": 30,
     "metadata": {},
     "output_type": "execute_result"
    }
   ],
   "source": [
    "lr_model = LinearRegression()\n",
    "lr_model.fit(X_train, y_train)"
   ]
  },
  {
   "cell_type": "code",
   "execution_count": 31,
   "metadata": {},
   "outputs": [],
   "source": [
    "y_pred = lr_model.predict(X_test)"
   ]
  },
  {
   "cell_type": "code",
   "execution_count": 32,
   "metadata": {},
   "outputs": [
    {
     "name": "stdout",
     "output_type": "stream",
     "text": [
      "Linear regression model accuracy :  0.8866637114738749\n"
     ]
    }
   ],
   "source": [
    "accuracy_score = lr_model.score(X_test, y_test)\n",
    "print(\"Linear regression model accuracy : \", accuracy_score)"
   ]
  },
  {
   "cell_type": "code",
   "execution_count": 33,
   "metadata": {},
   "outputs": [
    {
     "name": "stdout",
     "output_type": "stream",
     "text": [
      "Cross validation result :  [0.88426462 0.83605032 0.86145344 0.89201551 0.6154792 ]\n",
      "R2 :  0.8178526186867124\n"
     ]
    }
   ],
   "source": [
    "lr_cv = cross_val_score(lr_model, X, y, cv = 5, scoring=\"r2\")\n",
    "print(\"Cross validation result : \", lr_cv)\n",
    "print(\"R2 : \", lr_cv.mean() )"
   ]
  },
  {
   "cell_type": "code",
   "execution_count": null,
   "metadata": {},
   "outputs": [],
   "source": []
  }
 ],
 "metadata": {
  "kernelspec": {
   "display_name": "base",
   "language": "python",
   "name": "python3"
  },
  "language_info": {
   "codemirror_mode": {
    "name": "ipython",
    "version": 3
   },
   "file_extension": ".py",
   "mimetype": "text/x-python",
   "name": "python",
   "nbconvert_exporter": "python",
   "pygments_lexer": "ipython3",
   "version": "3.12.4"
  }
 },
 "nbformat": 4,
 "nbformat_minor": 2
}
