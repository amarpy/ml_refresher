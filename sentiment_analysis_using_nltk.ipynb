{
 "cells": [
  {
   "cell_type": "code",
   "execution_count": 2,
   "metadata": {},
   "outputs": [],
   "source": [
    "#import libraries\n",
    "import nltk\n",
    "from nltk.corpus import movie_reviews\n",
    "from nltk.classify import NaiveBayesClassifier\n",
    "from nltk.corpus import stopwords\n",
    "from nltk.classify.util import accuracy as nltk_accuracy\n",
    "import random\n"
   ]
  },
  {
   "cell_type": "code",
   "execution_count": null,
   "metadata": {},
   "outputs": [],
   "source": [
    "#download the nltk data files\n",
    "\n",
    "nltk.download(\"movie_reviews\")\n",
    "nltk.download(\"punkt\")\n",
    "nltk.download(\"stopwords\")"
   ]
  },
  {
   "cell_type": "code",
   "execution_count": 4,
   "metadata": {},
   "outputs": [],
   "source": [
    "#preprocess the dataset and extract features\n",
    "\n",
    "def extract_features(words):\n",
    "    return {word: True for word in words}"
   ]
  },
  {
   "cell_type": "code",
   "execution_count": 6,
   "metadata": {},
   "outputs": [],
   "source": [
    "#Load the movie_reviews dataset from NLTK\n",
    "\n",
    "documents = [(list(movie_reviews.words(fileid)), category) \n",
    "             for category in movie_reviews.categories() \n",
    "             for fileid in movie_reviews.fileids(category)]\n",
    "\n",
    "#shuffle to ensure randomness\n",
    "random.shuffle(documents)\n"
   ]
  },
  {
   "cell_type": "code",
   "execution_count": 16,
   "metadata": {},
   "outputs": [],
   "source": [
    "#prepare the dataset for training and testing\n",
    "\n",
    "feature_sets = [(extract_features(d), c) for (d,c) in documents]\n",
    "train_set, test_set = feature_sets[:1600], feature_sets[1600:]"
   ]
  },
  {
   "cell_type": "code",
   "execution_count": 17,
   "metadata": {},
   "outputs": [],
   "source": [
    "#train the naive bayes classifier\n",
    "\n",
    "classifier = NaiveBayesClassifier.train(train_set)"
   ]
  },
  {
   "cell_type": "code",
   "execution_count": null,
   "metadata": {},
   "outputs": [],
   "source": [
    "#evaluate the classifier on the test set\n",
    "\n",
    "accuracy = nltk_accuracy(classifier, test_set)\n",
    "print(f\"Accuracy : {accuracy * 100 :.2f}%\")\n"
   ]
  },
  {
   "cell_type": "code",
   "execution_count": null,
   "metadata": {},
   "outputs": [],
   "source": [
    "#show the most informative features\n",
    "\n",
    "classifier.show_most_informative_features(10)"
   ]
  },
  {
   "cell_type": "code",
   "execution_count": 21,
   "metadata": {},
   "outputs": [],
   "source": [
    "#test on  new input sentences\n",
    "\n",
    "def analyze_sentiment(text):\n",
    "    #tokenize and remove stopwords\n",
    "    words = nltk.word_tokenize(text)\n",
    "    words = [word for word in words if word.lower() not in stopwords.words(\"english\")]\n",
    "\n",
    "    #predict sentiment\n",
    "    features = extract_features(words)\n",
    "    return classifier.classify(features)"
   ]
  },
  {
   "cell_type": "code",
   "execution_count": null,
   "metadata": {},
   "outputs": [],
   "source": [
    "#test the classifier with some custom text inputs\n",
    "while True:\n",
    "    test_sentence = input(\"Enter your review: \").lower()\n",
    "    print(f\"Review: {test_sentence}\")\n",
    "    print(f\"Sentiment : {analyze_sentiment(test_sentence)}\")\n",
    "    next_review = input(\"Do you want to enter another review? (y/n) : \")\n",
    "    if next_review.lower() != \"y\":\n",
    "        print(\"Goodbye!\")\n",
    "        break"
   ]
  },
  {
   "cell_type": "code",
   "execution_count": null,
   "metadata": {},
   "outputs": [],
   "source": []
  }
 ],
 "metadata": {
  "kernelspec": {
   "display_name": "base",
   "language": "python",
   "name": "python3"
  },
  "language_info": {
   "codemirror_mode": {
    "name": "ipython",
    "version": 3
   },
   "file_extension": ".py",
   "mimetype": "text/x-python",
   "name": "python",
   "nbconvert_exporter": "python",
   "pygments_lexer": "ipython3",
   "version": "3.12.4"
  }
 },
 "nbformat": 4,
 "nbformat_minor": 2
}
